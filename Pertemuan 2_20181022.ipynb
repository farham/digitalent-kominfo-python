{
 "cells": [
  {
   "cell_type": "code",
   "execution_count": 4,
   "metadata": {},
   "outputs": [
    {
     "name": "stdout",
     "output_type": "stream",
     "text": [
      "0\n",
      "0\n",
      "1\n",
      "1\n",
      "2\n",
      "4\n",
      "3\n",
      "9\n",
      "4\n",
      "16\n",
      "============ Sintax For yang lainnya =========\n",
      "0 0\n",
      "2 4\n",
      "4 16\n",
      "6 36\n",
      "8 64\n"
     ]
    }
   ],
   "source": [
    "for i in range(0,5):\n",
    "    print(i) #Ini akan diulangi sebanya 20 kali\n",
    "    print(i**2)\n",
    "print(\"============ Sintax For yang lainnya =========\")\n",
    "#sintax For yang lain\n",
    "for i in range(0,10,2):\n",
    "    print(i, i**2)"
   ]
  },
  {
   "cell_type": "code",
   "execution_count": 5,
   "metadata": {},
   "outputs": [
    {
     "name": "stdout",
     "output_type": "stream",
     "text": [
      "0\n",
      "1\n",
      "2\n",
      "3\n",
      "4\n",
      "5\n",
      "6\n",
      "7\n",
      "8\n",
      "9\n",
      "============ Sintax While yang lainnya =========\n",
      "0\n",
      "2\n",
      "4\n",
      "6\n",
      "8\n"
     ]
    }
   ],
   "source": [
    "i = 0\n",
    "while i<10:\n",
    "    print(i)\n",
    "    i = i + 1\n",
    "\n",
    "print(\"============ Sintax While yang lainnya =========\")\n",
    "i = 0\n",
    "while i<10:\n",
    "    print(i)\n",
    "    i = i + 2"
   ]
  },
  {
   "cell_type": "code",
   "execution_count": 3,
   "metadata": {},
   "outputs": [
    {
     "name": "stdout",
     "output_type": "stream",
     "text": [
      "[10, 20, 39, 49, 19, 29, 98]\n",
      "['Farham', 'Mizan', 'Evi']\n",
      "['Big', 2.5, 29, 'Data']\n"
     ]
    }
   ],
   "source": [
    "#Deklarasi List atau Array\n",
    "\n",
    "#Dapat berisi angka\n",
    "nilai = [10, 20, 39, 49, 19, 29, 98]\n",
    "print(nilai)\n",
    "\n",
    "#Dapat berisi String\n",
    "peserta = ['Farham', 'Mizan', 'Evi']\n",
    "print(peserta)\n",
    "\n",
    "#Dapat Berisi Campuran\n",
    "campuran = ['Big', 2.5, 29, 'Data']\n",
    "print(campuran)"
   ]
  },
  {
   "cell_type": "code",
   "execution_count": 4,
   "metadata": {},
   "outputs": [
    {
     "name": "stdout",
     "output_type": "stream",
     "text": [
      "[10, 20, 39, 49, 19, 29, 98]\n",
      "['Farham', 'Mizan', 'Evi']\n",
      "['Big', 2.5, 29, 'Data']\n"
     ]
    }
   ],
   "source": [
    "#Deklarasi List\n",
    "\n",
    "#Dapat berisi angka\n",
    "nilai = [10, 20, 39, 49, 19, 29, 98]\n",
    "print(nilai)\n",
    "\n",
    "#Dapat berisi String\n",
    "peserta = ['Farham', 'Mizan', 'Evi']\n",
    "print(peserta)\n",
    "\n",
    "#Dapat Berisi Campuran\n",
    "campuran = ['Big', 2.5, 29, 'Data']\n",
    "print(campuran)"
   ]
  },
  {
   "cell_type": "code",
   "execution_count": 8,
   "metadata": {},
   "outputs": [
    {
     "name": "stdout",
     "output_type": "stream",
     "text": [
      "[10, 20, 39, 49, 19, 29, 98]\n",
      "['Farham', 'Mizan', 'Evi']\n",
      "['Big', 2.5, 29, 'Data']\n",
      "39\n",
      "29\n",
      "Farham\n",
      "29\n"
     ]
    }
   ],
   "source": [
    "#Deklarasi List\n",
    "\n",
    "#Dapat berisi angka\n",
    "nilai = [10, 20, 39, 49, 19, 29, 98]\n",
    "print(nilai)\n",
    "\n",
    "#Dapat berisi String\n",
    "peserta = ['Farham', 'Mizan', 'Evi']\n",
    "print(peserta)\n",
    "\n",
    "#Dapat Berisi Campuran\n",
    "campuran = ['Big', 2.5, 29, 'Data']\n",
    "print(campuran)\n",
    "\n",
    "#Print indexing dari List / Array\n",
    "print(nilai[2])\n",
    "print(nilai[-2])\n",
    "print(peserta[0])\n",
    "print(campuran[-2]) #dimjulai dari Kanan"
   ]
  },
  {
   "cell_type": "code",
   "execution_count": 12,
   "metadata": {},
   "outputs": [
    {
     "name": "stdout",
     "output_type": "stream",
     "text": [
      "[10, 20, 39, 49, 19, 29, 98]\n",
      "[10, 20, 39, 49, 19, 29, 98, 1900]\n",
      "[10, 20, 39, 49, 19, 29, 98, 1900, 100, 200, 300, 400]\n",
      "[39, 49, 19, 29, 98, 1900, 100, 200, 300]\n"
     ]
    }
   ],
   "source": [
    "#Dapat berisi angka\n",
    "nilai = [10, 20, 39, 49, 19, 29, 98]\n",
    "print(nilai)\n",
    "\n",
    "#Menambah Elemen kedalam List\n",
    "nilai.append(1900)\n",
    "print(nilai)\n",
    "\n",
    "#untuk menambahkan Elemen didalam List jika banyak\n",
    "nilai_baru = [100, 200, 300, 400]\n",
    "nilai.extend(nilai_baru)\n",
    "print(nilai)\n",
    "\n",
    "#mendelete dalam List\n",
    "del nilai[-1] #dari Kanan\n",
    "del nilai[0] #dari Kiri\n",
    "nilai.pop(0) #dari Kiri\n",
    "print(nilai)"
   ]
  },
  {
   "cell_type": "code",
   "execution_count": 15,
   "metadata": {
    "scrolled": true
   },
   "outputs": [
    {
     "name": "stdout",
     "output_type": "stream",
     "text": [
      "[10, 20, 39, 49, 19, 29, 98]\n",
      "[39, 49, 19]\n",
      "[10, 20, 39, 49, 19]\n",
      "[39, 49, 19, 29, 98]\n",
      "[10, 20, 39, 49, 19, 29, 98]\n"
     ]
    }
   ],
   "source": [
    "#Dapat berisi angka\n",
    "nilai = [10, 20, 39, 49, 19, 29, 98]\n",
    "print(nilai)\n",
    "\n",
    "#Slicing digunakan untuk memilih beberapa kelompok nilai dari list dengan memanfaatkan range index\n",
    "print(nilai[2:5]) #Index 2 sampai 5\n",
    "print(nilai[:-2]) # Otomatis dari Awal Sampai Index -2 dari kanan\n",
    "print(nilai[2:]) #dari mulai Index ke 2 sampai Otomatis sampai terakhir\n",
    "print(nilai[:]) #menampilkan seluruh index"
   ]
  },
  {
   "cell_type": "markdown",
   "metadata": {},
   "source": []
  },
  {
   "cell_type": "code",
   "execution_count": 18,
   "metadata": {},
   "outputs": [
    {
     "name": "stdout",
     "output_type": "stream",
     "text": [
      "[10, 20, 39, 49, 19, 29, 98]\n",
      "10\n",
      "20\n",
      "39\n",
      "49\n",
      "19\n",
      "29\n",
      "98\n",
      "=== Contoh Lainnya ====\n",
      "100\n",
      "400\n",
      "1521\n",
      "2401\n",
      "361\n",
      "841\n",
      "9604\n",
      "==== Menampilkan Indexnya juga =====\n",
      "Index ke  0  Nilainya adalah  10\n",
      "Index ke  1  Nilainya adalah  20\n",
      "Index ke  2  Nilainya adalah  39\n",
      "Index ke  3  Nilainya adalah  49\n",
      "Index ke  4  Nilainya adalah  19\n",
      "Index ke  5  Nilainya adalah  29\n",
      "Index ke  6  Nilainya adalah  98\n"
     ]
    }
   ],
   "source": [
    "#Dalam mengaakses setiap elemen dalam list, kita dapat menggunakan sintaks perulangan for yang telah kita pelajari sebelumnya\n",
    "nilai = [10, 20, 39, 49, 19, 29, 98]\n",
    "print(nilai)\n",
    "\n",
    "for n in nilai:\n",
    "    print(n)\n",
    "print('=== Contoh Lainnya ====')\n",
    "for n in nilai:\n",
    "    print(n**2)\n",
    "print('==== Menampilkan Indexnya juga =====')\n",
    "for i, n in enumerate(nilai):\n",
    "    print('Index ke ',i,' Nilainya adalah ', n)"
   ]
  },
  {
   "cell_type": "markdown",
   "metadata": {},
   "source": [
    "# Contoh\n",
    "Berapakah rata-rata nilai dari list tersebut"
   ]
  },
  {
   "cell_type": "code",
   "execution_count": 21,
   "metadata": {},
   "outputs": [
    {
     "name": "stdout",
     "output_type": "stream",
     "text": [
      "[10, 20, 39, 49, 19, 29, 98]\n",
      "10\n",
      "30\n",
      "69\n",
      "118\n",
      "137\n",
      "166\n",
      "264\n",
      "Total isi List 7\n",
      "37.714285714285715\n"
     ]
    }
   ],
   "source": [
    "#Berapa rata rata\n",
    "nilai = [10, 20, 39, 49, 19, 29, 98]\n",
    "print(nilai)\n",
    "\n",
    "total = 0\n",
    "for n in nilai:\n",
    "    total = total + n\n",
    "    print(total)\n",
    "    \n",
    "print('Total isi List', len(nilai))\n",
    "rata = total / len(nilai) #berapa banyak elemen\n",
    "print(rata)"
   ]
  },
  {
   "cell_type": "code",
   "execution_count": 10,
   "metadata": {},
   "outputs": [
    {
     "name": "stdout",
     "output_type": "stream",
     "text": [
      "[10, 20, 39, 49, 19, 29, 98]\n"
     ]
    }
   ],
   "source": [
    "#Berapa rata rata\n",
    "nilai = [10, 20, 39, 49, 19, 29, 98]\n",
    "print(nilai)"
   ]
  },
  {
   "cell_type": "markdown",
   "metadata": {},
   "source": [
    "# Lookup Nilai dalam List"
   ]
  },
  {
   "cell_type": "code",
   "execution_count": 22,
   "metadata": {},
   "outputs": [
    {
     "name": "stdout",
     "output_type": "stream",
     "text": [
      "[10, 20, 39, 49, 19, 29, 98]\n",
      "95 Tidak ada didalam List\n"
     ]
    }
   ],
   "source": [
    "#Lookup Nilai didalam List\n",
    "nilai = [10, 20, 39, 49, 19, 29, 98]\n",
    "print(nilai)\n",
    "\n",
    "#cek Isi dari Array\n",
    "n = 95\n",
    "if n in nilai :\n",
    "    print(n, \"Ada didalam List\")\n",
    "else :\n",
    "    print(n, \"Tidak ada didalam List\")"
   ]
  },
  {
   "cell_type": "markdown",
   "metadata": {},
   "source": [
    "# LATIHAN\n",
    "### Tampilkan Nilai yang LEBIH dari SAMA DENGAN rataratanya.\n"
   ]
  },
  {
   "cell_type": "code",
   "execution_count": 25,
   "metadata": {},
   "outputs": [],
   "source": [
    "#latihan\n",
    "nilai = [1,2,3,4,5]\n",
    "for n in nilai:\n",
    "    if n>=rata:\n",
    "        print(n)"
   ]
  },
  {
   "cell_type": "markdown",
   "metadata": {},
   "source": [
    "## Latihan ke 2\n",
    "Tampilkan nilai dari list nilai yang lebih dari sama dengan \n",
    "\n",
    "tugas = ['66', '77', '88', '99', '55', '54']\n",
    "Tampilkan nilai dari list tugas yang genap"
   ]
  },
  {
   "cell_type": "code",
   "execution_count": 31,
   "metadata": {},
   "outputs": [
    {
     "name": "stdout",
     "output_type": "stream",
     "text": [
      "Isi list tugas adalah  [66, 77, 88, 99, 55, 54]\n",
      "Nilai yang Genap adalah  66\n",
      "Nilai yang Genap adalah  88\n",
      "Nilai yang Genap adalah  54\n"
     ]
    }
   ],
   "source": [
    "tugas = [66, 77, 88, 99, 55, 54]\n",
    "print('Isi list tugas adalah ', tugas)\n",
    "\n",
    "for n in tugas:\n",
    "    if n%2==0:\n",
    "        print('Nilai yang Genap adalah ',n)"
   ]
  },
  {
   "cell_type": "markdown",
   "metadata": {},
   "source": [
    "# Tuple\n",
    "1. Tuple merupakan tipe data yang mirip dengan list.\n",
    "2. Berifat immutable atau tidak dapat ditambah dan diubah nilainya. \n",
    "3. Keuntungan dari penggunaan tuple adalah, pengaksesan datanya lebih cepat.\n",
    "4. Menggunakan ( )."
   ]
  },
  {
   "cell_type": "code",
   "execution_count": 14,
   "metadata": {},
   "outputs": [
    {
     "name": "stdout",
     "output_type": "stream",
     "text": [
      "('Januari', 'Februari', 'Maret', 'April', 'Mei', 'Juni', 'Juli', 'Agustus', 'September', 'Oktober', 'November', 'Desember')\n"
     ]
    }
   ],
   "source": [
    "# Deklarasi Tuple, Menggunakan Kurung biasa\n",
    "bulan = (\"Januari\",\"Februari\",\"Maret\",\"April\",\"Mei\",\"Juni\",\"Juli\",\"Agustus\",\"September\",\"Oktober\",\"November\",\"Desember\")\n",
    "print(bulan)"
   ]
  },
  {
   "cell_type": "code",
   "execution_count": 15,
   "metadata": {},
   "outputs": [
    {
     "name": "stdout",
     "output_type": "stream",
     "text": [
      "('Januari', 'Februari', 'Maret', 'April', 'Mei', 'Juni', 'Juli', 'Agustus', 'September', 'Oktober', 'November', 'Desember')\n",
      "Januari\n",
      "Mei\n",
      "Desember\n",
      "Oktober\n"
     ]
    }
   ],
   "source": [
    "# Deklarasi Tuple\n",
    "bulan = (\"Januari\",\"Februari\",\"Maret\",\"April\",\"Mei\",\"Juni\",\"Juli\",\"Agustus\",\"September\",\"Oktober\",\"November\",\"Desember\")\n",
    "print(bulan)\n",
    "\n",
    "print(bulan[0])\n",
    "print(bulan[4])\n",
    "print(bulan[-1])\n",
    "print(bulan[-3])\n"
   ]
  },
  {
   "cell_type": "code",
   "execution_count": 16,
   "metadata": {},
   "outputs": [
    {
     "name": "stdout",
     "output_type": "stream",
     "text": [
      "('Januari', 'Februari', 'Maret', 'April', 'Mei', 'Juni', 'Juli', 'Agustus', 'September', 'Oktober', 'November', 'Desember')\n",
      "('Maret', 'April', 'Mei')\n",
      "('Januari', 'Februari', 'Maret', 'April', 'Mei', 'Juni', 'Juli')\n",
      "('Juni', 'Juli', 'Agustus', 'September', 'Oktober', 'November', 'Desember')\n",
      "('Januari', 'Februari', 'Maret', 'April', 'Mei', 'Juni', 'Juli', 'Agustus', 'September', 'Oktober', 'November', 'Desember')\n"
     ]
    }
   ],
   "source": [
    "# Deklarasi Tuple\n",
    "bulan = (\"Januari\",\"Februari\",\"Maret\",\"April\",\"Mei\",\"Juni\",\"Juli\",\"Agustus\",\"September\",\"Oktober\",\"November\",\"Desember\")\n",
    "print(bulan)\n",
    "\n",
    "\n",
    "print(bulan[2:5])\n",
    "\n",
    "print(bulan[:-5])\n",
    "\n",
    "print(bulan[5:])\n",
    "\n",
    "print(bulan[:])"
   ]
  },
  {
   "cell_type": "code",
   "execution_count": 17,
   "metadata": {},
   "outputs": [
    {
     "name": "stdout",
     "output_type": "stream",
     "text": [
      "('Januari', 'Februari', 'Maret', 'April', 'Mei', 'Juni', 'Juli', 'Agustus', 'September', 'Oktober', 'November', 'Desember')\n",
      "Januari\n",
      "Februari\n",
      "Maret\n",
      "April\n",
      "Mei\n",
      "Juni\n",
      "Juli\n",
      "Agustus\n",
      "September\n",
      "Oktober\n",
      "November\n",
      "Desember\n"
     ]
    }
   ],
   "source": [
    "# Deklarasi Tuple\n",
    "bulan = (\"Januari\",\"Februari\",\"Maret\",\"April\",\"Mei\",\"Juni\",\"Juli\",\"Agustus\",\"September\",\"Oktober\",\"November\",\"Desember\")\n",
    "print(bulan)\n",
    "\n",
    "for b in bulan:\n",
    "    print(b)\n"
   ]
  },
  {
   "cell_type": "markdown",
   "metadata": {},
   "source": [
    "# Dictionary\n",
    "1. Dictionary dalam Python berbeda dengan List ataupun Tuple. Karena setiap urutanya berisi key dan value. \n",
    "2. Setiap key dipisahkan dari value-nya oleh titik dua (:), \n",
    "3. item dipisahkan oleh koma, dan semuanya tertutup dalam kurung kurawal. \n",
    "4. Dictionary kosong tanpa barang ditulis hanya dengan dua kurung kurawal, \n",
    "5. seperti ini: {  }."
   ]
  },
  {
   "cell_type": "code",
   "execution_count": 41,
   "metadata": {},
   "outputs": [
    {
     "name": "stdout",
     "output_type": "stream",
     "text": [
      "{'Nama': 'Evi', 'Umur': 28, 'JenisKelamin': 'Perempuan'}\n",
      "Evi\n",
      "28\n",
      "Perempuan\n",
      "[{'Nama': 'Evi', 'Umur': 28, 'JenisKelamin': 'Perempuan'}, {'Nama': 'Farham', 'Umur': 28, 'JenisKelamin': 'Laki-Laki'}]\n",
      "{'Nama': 'Evi', 'Umur': 28, 'JenisKelamin': 'Perempuan'}\n"
     ]
    }
   ],
   "source": [
    "siswa_cewe = {'Nama': 'Evi', 'Umur': 28, 'JenisKelamin': 'Perempuan'}\n",
    "siswa_cowo = {'Nama': 'Farham', 'Umur': 28, 'JenisKelamin': 'Laki-Laki'}\n",
    "print(siswa_cewe)\n",
    "print(siswa_cewe['Nama'])\n",
    "print(siswa_cewe['Umur'])\n",
    "print(siswa_cewe['JenisKelamin'])\n",
    "\n",
    "list_siswa = []\n",
    "list_siswa.append(siswa_cewe)\n",
    "list_siswa.append(siswa_cowo)\n",
    "print(list_siswa)\n",
    "print(list_siswa[0])\n"
   ]
  },
  {
   "cell_type": "code",
   "execution_count": 43,
   "metadata": {},
   "outputs": [
    {
     "name": "stdout",
     "output_type": "stream",
     "text": [
      "Nama Evi\n",
      "Umur 28\n",
      "JenisKelamin Perempuan\n"
     ]
    }
   ],
   "source": [
    "#Menulusuri Key dan Isi\n",
    "for k,v in siswa_cewe.items():\n",
    "    print(k,v)"
   ]
  },
  {
   "cell_type": "code",
   "execution_count": 49,
   "metadata": {},
   "outputs": [
    {
     "name": "stdout",
     "output_type": "stream",
     "text": [
      "{'Nama': 'Budi', 'Umur': 7, 'JenisKelamin': 'Laki-Laki'}\n",
      "Budi\n",
      "7\n",
      "Laki-Laki\n",
      "{'Nama': 'Ani', 'Umur': 7, 'JenisKelamin': 'Laki-Laki'}\n",
      "{'Nama': 'Ani', 'Umur': 7, 'JenisKelamin': 'Laki-Laki', 'Alamat': 'Jl. Kaliurang KM 5'}\n",
      "{'Nama': 'Ani', 'Umur': 7, 'JenisKelamin': 'Laki-Laki', 'Alamat': 'Jl. Kaliurang KM 5', 'Nilai': [1, 2, 3, 4, 5]}\n",
      "1\n",
      "2\n",
      "3\n",
      "4\n",
      "5\n"
     ]
    }
   ],
   "source": [
    "siswa = {'Nama': 'Budi', 'Umur': 7, 'JenisKelamin': 'Laki-Laki'}\n",
    "print(siswa)\n",
    "print(siswa['Nama'])\n",
    "print(siswa['Umur'])\n",
    "print(siswa['JenisKelamin'])\n",
    "\n",
    "#Mengubah Nilai\n",
    "siswa['Nama'] = 'Ani'\n",
    "print(siswa)\n",
    "\n",
    "#Menambah Element atau ( key dan Item)\n",
    "siswa['Alamat'] = \"Jl. Kaliurang KM 5\"\n",
    "print(siswa)\n",
    "\n",
    "# List sebagai nilai dari elemen Dictionary\n",
    "siswa[\"Nilai\"] = nilai\n",
    "print(siswa)\n",
    "\n",
    "for n in siswa['Nilai']:\n",
    "    print(n)"
   ]
  },
  {
   "cell_type": "code",
   "execution_count": 57,
   "metadata": {},
   "outputs": [
    {
     "ename": "AttributeError",
     "evalue": "'str' object has no attribute 'items'",
     "output_type": "error",
     "traceback": [
      "\u001b[1;31m---------------------------------------------------------------------------\u001b[0m",
      "\u001b[1;31mAttributeError\u001b[0m                            Traceback (most recent call last)",
      "\u001b[1;32m<ipython-input-57-b6b311eee667>\u001b[0m in \u001b[0;36m<module>\u001b[1;34m()\u001b[0m\n\u001b[0;32m      1\u001b[0m \u001b[1;33m\u001b[0m\u001b[0m\n\u001b[0;32m      2\u001b[0m \u001b[0msiswa\u001b[0m \u001b[1;33m=\u001b[0m \u001b[1;33m{\u001b[0m\u001b[1;34m'Nama'\u001b[0m\u001b[1;33m:\u001b[0m \u001b[1;34m'Budi'\u001b[0m\u001b[1;33m,\u001b[0m \u001b[1;34m'Umur'\u001b[0m\u001b[1;33m:\u001b[0m \u001b[1;36m7\u001b[0m\u001b[1;33m,\u001b[0m \u001b[1;34m'JenisKelamin'\u001b[0m\u001b[1;33m:\u001b[0m \u001b[1;34m'Laki-Laki'\u001b[0m\u001b[1;33m}\u001b[0m\u001b[1;33m\u001b[0m\u001b[0m\n\u001b[1;32m----> 3\u001b[1;33m \u001b[1;32mfor\u001b[0m \u001b[0mk\u001b[0m\u001b[1;33m,\u001b[0m\u001b[0mv\u001b[0m \u001b[1;32min\u001b[0m \u001b[0ml\u001b[0m\u001b[1;33m.\u001b[0m\u001b[0mitems\u001b[0m\u001b[1;33m(\u001b[0m\u001b[1;33m)\u001b[0m\u001b[1;33m:\u001b[0m\u001b[1;33m\u001b[0m\u001b[0m\n\u001b[0m\u001b[0;32m      4\u001b[0m         \u001b[0mprint\u001b[0m\u001b[1;33m(\u001b[0m\u001b[0mk\u001b[0m\u001b[1;33m,\u001b[0m \u001b[0mv\u001b[0m\u001b[1;33m)\u001b[0m\u001b[1;33m\u001b[0m\u001b[0m\n\u001b[0;32m      5\u001b[0m \u001b[1;33m\u001b[0m\u001b[0m\n",
      "\u001b[1;31mAttributeError\u001b[0m: 'str' object has no attribute 'items'"
     ]
    }
   ],
   "source": [
    "\n",
    "siswa = {'Nama': 'Budi', 'Umur': 7, 'JenisKelamin': 'Laki-Laki'}\n",
    "for k,v in l.items():\n",
    "        print(k, v)\n",
    "    "
   ]
  },
  {
   "cell_type": "markdown",
   "metadata": {},
   "source": [
    "# Operasi String\n",
    "Pada pertemuan sebelumnya telah dijelaskan mengenai string. Dalam python cukup banyak operasi yang dikenakan pada string, yang akan berguna dalam analisis data."
   ]
  },
  {
   "cell_type": "markdown",
   "metadata": {},
   "source": [
    "## Slicing dan Akses Per Karakter"
   ]
  },
  {
   "cell_type": "code",
   "execution_count": 58,
   "metadata": {},
   "outputs": [
    {
     "name": "stdout",
     "output_type": "stream",
     "text": [
      "34\n",
      "Tutorial\n",
      "ograman Py\n",
      "Python\n"
     ]
    }
   ],
   "source": [
    "nama = \"Tutorial Bahasa Pemrograman Python\" #Dianggap sebagai List of Character\n",
    "print(len(nama))\n",
    "print(nama[0:8])\n",
    "print(nama[20:30])\n",
    "print(nama[-6:])"
   ]
  },
  {
   "cell_type": "markdown",
   "metadata": {},
   "source": [
    "###  Merubah String menjadi list Kata\n",
    "1. Menggunakan fungsi split. \n",
    "2. Fungsi split dapat diberikan parameter berupa karakter pemisahnya. \n",
    "3. Jika tidak diberikan parameter maka secara default, pemisahnya adalah spasi."
   ]
  },
  {
   "cell_type": "code",
   "execution_count": 79,
   "metadata": {},
   "outputs": [
    {
     "name": "stdout",
     "output_type": "stream",
     "text": [
      "== Displit dengan menggunakan tanda Spasi\n",
      "['Tutorial', 'Bahasa', 'Pemrograman', 'Python']\n",
      "Tutorial\n",
      "Pemrograman\n",
      "== Displit dengan menggunakan tanda titik\n",
      "['Pada hari minggu kuturut ayah ke kota', ' Naik Delman istimewa kududuk di muka', ' Duduk disamping pak kusir yang sedang bekerja']\n",
      " Duduk disamping pak kusir yang sedang bekerja\n",
      "============ Cara Kombnasi Split ============\n",
      "- Tidak pakai Strip = Pada hari minggu kuturut ayah ke kota\n",
      "+ Per Kal = Pada hari minggu kuturut ayah ke kota\n",
      "- Tidak pakai Strip =  Naik Delman istimewa kududuk di muka\n",
      "+ Per Kal = Naik Delman istimewa kududuk di muka\n",
      "- Tidak pakai Strip =  Duduk disamping pak kusir yang sedang bekerja\n",
      "+ Per Kal = Duduk disamping pak kusir yang sedang bekerja\n",
      "== Pemecahan perkata ==\n",
      "Per kata = ['Pada', 'hari', 'minggu', 'kuturut', 'ayah', 'ke', 'kota']\n",
      "Per kata = ['Naik', 'Delman', 'istimewa', 'kududuk', 'di', 'muka']\n",
      "Per kata = ['Duduk', 'disamping', 'pak', 'kusir', 'yang', 'sedang', 'bekerja']\n"
     ]
    }
   ],
   "source": [
    "print('== Displit dengan menggunakan tanda Spasi')\n",
    "nama = \"Tutorial Bahasa Pemrograman Python\"\n",
    "kata = nama.split()\n",
    "print(kata)\n",
    "print(kata[0])\n",
    "print(kata[2])\n",
    "\n",
    "print('== Displit dengan menggunakan tanda titik')\n",
    "paragraf = \"Pada hari minggu kuturut ayah ke kota. Naik Delman istimewa kududuk di muka. Duduk disamping pak kusir yang sedang bekerja\"\n",
    "kalimat = paragraf.split(\".\")\n",
    "print(kalimat)\n",
    "print(kalimat[2])\n",
    "\n",
    "print('============ Cara Kombnasi Split ============')\n",
    "k = 0;\n",
    "for k in kalimat:\n",
    "    print('- Tidak pakai Strip =', k)\n",
    "    print('+ Per Kal =', k.strip()) #Menghilangkan Spasi didepan dan beakang\n",
    "print('== Pemecahan perkata ==')\n",
    "for k in kalimat:\n",
    "    print('Per kata =', k.strip().split())"
   ]
  },
  {
   "cell_type": "code",
   "execution_count": 81,
   "metadata": {},
   "outputs": [
    {
     "name": "stdout",
     "output_type": "stream",
     "text": [
      "Tutorial Bahasa Pemrograman Python\n",
      "Cari Kata kata  Pythonn\n",
      "Not Found!\n",
      " ===  Kombinasi ===== \n",
      "Python Found\n",
      "Java Not Found\n",
      "C++ Not Found\n",
      "PHP Not Found\n"
     ]
    }
   ],
   "source": [
    "nama = \"Tutorial Bahasa Pemrograman Python\"\n",
    "cari = 'Pythonn'\n",
    "print(nama)\n",
    "print('Cari Kata kata ', cari)\n",
    "\n",
    "if cari in nama:\n",
    "    print(\"Found!\")\n",
    "else:\n",
    "    print(\"Not Found!\")\n",
    "\n",
    "print(\" ===  Kombinasi ===== \")\n",
    "cari = ['Python', 'Java', 'C++', 'PHP']\n",
    "for c in cari:\n",
    "    if c in nama:\n",
    "        print(c, \"Found\")\n",
    "    else:\n",
    "        print(c, \"Not Found\")"
   ]
  },
  {
   "cell_type": "markdown",
   "metadata": {},
   "source": [
    "### Replacing String\n",
    "Mereplace String"
   ]
  },
  {
   "cell_type": "code",
   "execution_count": 82,
   "metadata": {},
   "outputs": [
    {
     "name": "stdout",
     "output_type": "stream",
     "text": [
      "Pada hari minggu kuturut ayah ke kota. Naik Delman istimewa kududuk di muka. Duduk disamping pak kusir yang sedang bekerja\n",
      "\n",
      "=> Merubah kata Minggu menjadi Senin <=\n",
      "Pada hari senin kuturut ayah ke kota. Naik Delman istimewa kududuk di muka. Duduk disamping pak kusir yang sedang bekerja\n",
      "\n",
      "=> Merubah kata ayah menjadi ibu <=\n",
      "Pada hari senin kuturut ibu ke kota. Naik Delman istimewa kududuk di muka. Duduk disamping pak kusir yang sedang bekerja\n"
     ]
    }
   ],
   "source": [
    "paragraf = \"Pada hari minggu kuturut ayah ke kota. Naik Delman istimewa kududuk di muka. Duduk disamping pak kusir yang sedang bekerja\"\n",
    "print(paragraf)\n",
    "print(\"\")\n",
    "print('=> Merubah kata Minggu menjadi Senin <=')\n",
    "paragraf = paragraf.replace('minggu','senin')\n",
    "print(paragraf)\n",
    "print(\"\")\n",
    "print('=> Merubah kata ayah menjadi ibu <=')\n",
    "paragraf = paragraf.replace('ayah','ibu')\n",
    "print(paragraf)"
   ]
  },
  {
   "cell_type": "markdown",
   "metadata": {},
   "source": [
    "### panjang String, Lower, Uppercase"
   ]
  },
  {
   "cell_type": "code",
   "execution_count": 83,
   "metadata": {},
   "outputs": [
    {
     "name": "stdout",
     "output_type": "stream",
     "text": [
      "34\n",
      "TUTORIAL BAHASA PEMROGRAMAN PYTHON\n",
      "tutorial bahasa pemrograman python\n"
     ]
    }
   ],
   "source": [
    "paragraf = \"Pada hari minggu kuturut ayah ke kota. Naik Delman istimewa kududuk di muka. Duduk disamping pak kusir yang sedang bekerja\"\n",
    "print(len(nama))\n",
    "print(nama.upper())\n",
    "print(nama.lower())"
   ]
  },
  {
   "cell_type": "code",
   "execution_count": 101,
   "metadata": {},
   "outputs": [
    {
     "name": "stdout",
     "output_type": "stream",
     "text": [
      "{10: 0, 12: 0, 14: 2}\n"
     ]
    }
   ],
   "source": [
    "data = { 10 : 0, 12 : 0}\n",
    "data[13] = 2\n",
    "data[14] = data.pop(13)\n",
    "print(data)"
   ]
  },
  {
   "cell_type": "code",
   "execution_count": 97,
   "metadata": {},
   "outputs": [
    {
     "ename": "SyntaxError",
     "evalue": "invalid syntax (<ipython-input-97-ad52a7a60253>, line 17)",
     "output_type": "error",
     "traceback": [
      "\u001b[1;36m  File \u001b[1;32m\"<ipython-input-97-ad52a7a60253>\"\u001b[1;36m, line \u001b[1;32m17\u001b[0m\n\u001b[1;33m    print \"biodata1 : %s\" , str(biodata1)\u001b[0m\n\u001b[1;37m                        ^\u001b[0m\n\u001b[1;31mSyntaxError\u001b[0m\u001b[1;31m:\u001b[0m invalid syntax\n"
     ]
    }
   ],
   "source": [
    "#!/usr/bin/python\n",
    "\n",
    "#membuat dictionary\n",
    "biodata1 = {'Nama': 'Wayan', 'Asal': 'Gianyar', 'Umur': 21, 'NoUrut': 1};\n",
    "biodata2 = {'Nama': 'Made', 'Asal': 'Denpasar', 'Umur': 23, 'NoUrut': 2};\n",
    "biodata3 = {'Nama': 'Nyoman', 'Asal': 'Gianyar', 'Umur': 21, 'NoUrut': 3};\n",
    "biodata4 = {'Nama': 'Wayan', 'Asal': 'Gianyar', 'Umur': 21, 'NoUrut': 1};\n",
    "temp = ('Nama','Asal','Umur','NoUrut');\n",
    "biodataBaru = {'JenisKelamin' : 'pria' }\n",
    "\n",
    "#menghapus semua item dictionary biodata1\n",
    "biodata1.clear()\n",
    "print (\"Jumlah setelah dihapus : \" , len(biodata1))\n",
    "\n",
    "#meng-copy dictionary biodata4 ke biodata1\n",
    "biodata1 = biodata4.copy()\n",
    "print \"biodata1 : %s\" , str(biodata1)\n",
    "\n",
    "#membuat dictionary baru dari temp\n",
    "biodata5 = biodata5.fromkeys(temp)\n",
    "print \"Dictionary biodata5 : %s\" , str(biodata5)\n",
    "\n",
    "#mengembalikan nilai dari key\n",
    "print \"Value : %s\" , biodata2.get('NoUrut')\n",
    "\n",
    "#mengecek key dari dictionary\n",
    "print \"Value : %s\" , biodata2.has_key('Nama')\n",
    "\n",
    "#merubah item menjadi list\n",
    "print \"Value : %s\" , biodata2.items()\n",
    "\n",
    "#menampilkan semua key\n",
    "print \"Key : %s\" , biodata3.keys()\n",
    "\n",
    "#menambah item dengan default value\n",
    "print \"Item baru : %s\" , biodata4.setdefault('Hobi', None)\n",
    "\n",
    "#mengupdate dictionary\n",
    "biodata4.update(biodataBaru)\n",
    "print \"Update biodata4 : %s\" , biodata4\n",
    "\n",
    "#menampilkan semua value dari dictionary\n",
    "print \"Semua value : %s\" , biodata4.values()"
   ]
  },
  {
   "cell_type": "code",
   "execution_count": null,
   "metadata": {},
   "outputs": [],
   "source": []
  },
  {
   "cell_type": "code",
   "execution_count": null,
   "metadata": {},
   "outputs": [],
   "source": []
  }
 ],
 "metadata": {
  "kernelspec": {
   "display_name": "Python 3",
   "language": "python",
   "name": "python3"
  },
  "language_info": {
   "codemirror_mode": {
    "name": "ipython",
    "version": 3
   },
   "file_extension": ".py",
   "mimetype": "text/x-python",
   "name": "python",
   "nbconvert_exporter": "python",
   "pygments_lexer": "ipython3",
   "version": "3.7.0"
  }
 },
 "nbformat": 4,
 "nbformat_minor": 2
}
