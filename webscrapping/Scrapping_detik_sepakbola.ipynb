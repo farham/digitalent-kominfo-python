{
 "cells": [
  {
   "cell_type": "code",
   "execution_count": null,
   "metadata": {},
   "outputs": [],
   "source": [
    "from bs4 import BeautifulSoup as bs\n",
    "import urllib"
   ]
  },
  {
   "cell_type": "code",
   "execution_count": 26,
   "metadata": {},
   "outputs": [
    {
     "name": "stdout",
     "output_type": "stream",
     "text": [
      "b'<!DOCTYPE html>\\n<html>\\n    <head>\\n    \\t<meta content=\"IE=edge,chrome=1\" http-equiv=\"X-UA-Compatible\">\\n    \\t<meta charset=\"utf-8\">\\n    \\t<meta content=\"text/html\" http-equiv=\"Content-Type\">\\n\\n        <title>Informasi Berita Seputar Dunia Olahraga Terbaru</title>\\n<meta name=\"description\" content=\"Informasi dan berita olahraga terbaru tentang sepakbola, moto gp, basket, tenis, bulutangkis, formula 1, fakta, gosip dan foto video.\" itemprop=\"description\" />\\n<meta charset=\"utf-8\">\\n<meta http-equiv=\"X-UA-Compatible\" content=\"text/html; charset=UTF-8\" />\\n<meta name=\"viewport\" content=\"width=device-width, initial-scale=1.0\" />\\n<link href=\"https://plus.google.com/+detikcom\" rel=\"publisher\" />\\n\\n\\t\\t<meta property=\"og:type\" content=\"article\" />\\n\\t\\t<meta property=\"og:site_name\" content=\"detiksport\" />\\n\\t\\t<meta property=\"og:title\" content=\"Informasi Berita Seputar Dunia Olahraga Terbaru\" />\\n\\t\\t<meta property=\"og:image\" content=\"https://akcdn.detik.net.id/logo_tematik/logodetiksport_copy1.png\" />\\n\\t\\t<meta property=\"og:description\" content=\"Informasi dan berita olahraga terbaru tentang sepakbola, moto gp, basket, tenis, bulutangkis, formula 1, fakta, gosip dan foto video.\" />\\n\\t\\t<meta property=\"og:url\" content=\"https://sport.detik.com/indeks\" />\\n\\t\\t<meta property=\"fb:app_id\" content=\"187960271237149\" />\\n\\t\\t<meta property=\"fb:admins\" content=\"100000607566694\" />\\n\\t\\t<meta property=\"og:image:type\" content=\"image/jpeg\" />\\n\\t\\t<meta property=\"og:image:width\" content=\"650\" />\\n\\t\\t<meta property=\"og:image:height\" content=\"366\" />\\n<meta name=\"copyright\" content=\"detiksport\" itemprop=\"dateline\" />\\n<meta name=\"p:domain_verify\" content=\"405e0728202749df914f7811375e18a0\" />\\n<meta name=\"robots\" content=\"index, follow\" />\\n<meta content=\"Informasi dan berita olahraga terbaru tentang sepakbola, moto gp, basket, tenis, bulutangkis, formula 1, fakta, gosip dan foto video.\" itemprop=\"headline\" />\\n<meta name=\"keywords\" content=\"informasi olahraga, berita olahraga, berita olahraga terbaru, berita olahraga terlengkap, '...\n"
     ]
    }
   ],
   "source": [
    "url = 'https://sport.detik.com/indeks'\n",
    "html = urllib.request.urlopen(url).read()\n",
    "print(str(html[:2000])+'...')"
   ]
  },
  {
   "cell_type": "code",
   "execution_count": 28,
   "metadata": {},
   "outputs": [
    {
     "data": {
      "text/plain": [
       "['https://sport.detik.com/sport-lain/d-4274318/percayakan-sea-games-2019-kepada-atlet-junior',\n",
       " 'https://sport.detik.com/sport-lain/d-4274217/anggaran-pelatnas-berkurang-sea-games-dan-kualifikasi-olimpiade-diselaraskan',\n",
       " 'https://sport.detik.com/moto-gp/d-4274009/vinales-tercepat-di-latihan-bebas-pertama-motogp-australia',\n",
       " 'https://sport.detik.com/detiktv/d-4273700/fifa-tetap-voting-kompetisi-baru-padahal-ramai-penolakan',\n",
       " 'https://sport.detik.com/raket/d-4273631/jonatan-gregoria-tembus-8-besar-prancis-terbuka',\n",
       " 'https://sport.detik.com/moto-gp/d-4273598/tekad-rossi-kalahkan-dovizioso-di-motogp-australia',\n",
       " 'https://sport.detik.com/raket/d-4273590/greysiaapriyani-dan-tontowililiyana-pijak-perempatfinal-prancis-terbuka',\n",
       " 'https://sport.detik.com/moto-gp/d-4273567/marquez-masa-masa-sulit-itu-pasti-akan-datang']"
      ]
     },
     "execution_count": 28,
     "metadata": {},
     "output_type": "execute_result"
    }
   ],
   "source": [
    "soup = bs(html,'lxml')\n",
    "divs = soup.find_all('div', attrs={'class':'desc_idx ml10'})\n",
    "\n",
    "news_links = []\n",
    "for div in divs:\n",
    "    news_links.append(div.a['href'])\n",
    "news_links"
   ]
  },
  {
   "cell_type": "code",
   "execution_count": 31,
   "metadata": {},
   "outputs": [
    {
     "name": "stdout",
     "output_type": "stream",
     "text": [
      "Vinales Tercepat di Latihan Bebas Pertama MotoGP Australia\n",
      "Tekad Rossi Kalahkan Dovizioso di MotoGP Australia\n",
      "Marquez: Masa-Masa Sulit Itu Pasti Akan Datang\n"
     ]
    }
   ],
   "source": [
    "titles = []\n",
    "articles = []    \n",
    "for news_link in news_links:\n",
    "    if 'https://sport.detik.com/moto-gp/' in news_link:\n",
    "        sub_url = news_link\n",
    "        sub_html = urllib.request.urlopen(sub_url).read()\n",
    "        sub_soup = bs(sub_html,'lxml')\n",
    "\n",
    "        title = sub_soup.find_all('div', attrs={'class':'jdl'})[0].h1.text\n",
    "        #print(title)\n",
    "        article = sub_soup.find_all('div', attrs={'class':'detail_text'})[0].text\n",
    "\n",
    "        titles.append(title)\n",
    "        articles.append(article)\n",
    "#titles\n",
    "print(titles)"
   ]
  },
  {
   "cell_type": "code",
   "execution_count": 32,
   "metadata": {},
   "outputs": [
    {
     "data": {
      "text/html": [
       "<div>\n",
       "<style scoped>\n",
       "    .dataframe tbody tr th:only-of-type {\n",
       "        vertical-align: middle;\n",
       "    }\n",
       "\n",
       "    .dataframe tbody tr th {\n",
       "        vertical-align: top;\n",
       "    }\n",
       "\n",
       "    .dataframe thead th {\n",
       "        text-align: right;\n",
       "    }\n",
       "</style>\n",
       "<table border=\"1\" class=\"dataframe\">\n",
       "  <thead>\n",
       "    <tr style=\"text-align: right;\">\n",
       "      <th></th>\n",
       "      <th>title</th>\n",
       "      <th>article</th>\n",
       "    </tr>\n",
       "  </thead>\n",
       "  <tbody>\n",
       "    <tr>\n",
       "      <th>0</th>\n",
       "      <td>Vinales Tercepat di Latihan Bebas Pertama Moto...</td>\n",
       "      <td>\\nMelbourne - MotoGP Australia sesi latihan be...</td>\n",
       "    </tr>\n",
       "    <tr>\n",
       "      <th>1</th>\n",
       "      <td>Tekad Rossi Kalahkan Dovizioso di MotoGP Austr...</td>\n",
       "      <td>\\nPhillip Island - Valentino Rossi akan bertar...</td>\n",
       "    </tr>\n",
       "    <tr>\n",
       "      <th>2</th>\n",
       "      <td>Marquez: Masa-Masa Sulit Itu Pasti Akan Datang</td>\n",
       "      <td>\\nJakarta - Marc Marquez baru saja merengkuh t...</td>\n",
       "    </tr>\n",
       "  </tbody>\n",
       "</table>\n",
       "</div>"
      ],
      "text/plain": [
       "                                               title  \\\n",
       "0  Vinales Tercepat di Latihan Bebas Pertama Moto...   \n",
       "1  Tekad Rossi Kalahkan Dovizioso di MotoGP Austr...   \n",
       "2     Marquez: Masa-Masa Sulit Itu Pasti Akan Datang   \n",
       "\n",
       "                                             article  \n",
       "0  \\nMelbourne - MotoGP Australia sesi latihan be...  \n",
       "1  \\nPhillip Island - Valentino Rossi akan bertar...  \n",
       "2  \\nJakarta - Marc Marquez baru saja merengkuh t...  "
      ]
     },
     "execution_count": 32,
     "metadata": {},
     "output_type": "execute_result"
    }
   ],
   "source": [
    "import pandas as pd\n",
    "table = pd.DataFrame(columns = ['title','article'])\n",
    "\n",
    "table['title'] = titles\n",
    "table['article'] = articles\n",
    "\n",
    "table.head(16)"
   ]
  },
  {
   "cell_type": "code",
   "execution_count": 33,
   "metadata": {},
   "outputs": [],
   "source": [
    "writer = pd.ExcelWriter('detik_moto_gp.xlsx')\n",
    "table.to_excel(writer,'Sheet1',index=False)\n",
    "writer.save()"
   ]
  },
  {
   "cell_type": "code",
   "execution_count": null,
   "metadata": {},
   "outputs": [],
   "source": []
  }
 ],
 "metadata": {
  "kernelspec": {
   "display_name": "Python 3",
   "language": "python",
   "name": "python3"
  }
 },
 "nbformat": 4,
 "nbformat_minor": 2
}
