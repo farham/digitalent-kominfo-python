{
 "cells": [
  {
   "cell_type": "markdown",
   "metadata": {},
   "source": [
    "# Tugas 2 : Word Count\n",
    "Diberikan sebuah paragraf, hitunglah banyak kemunculan masing-masing kata. Contoh : \"Presiden pagi ini melakukan kunjungan ke Jogja\"\n",
    "\n",
    "- presiden : 1\n",
    "- pagi : 1\n",
    "- ini : 1\n",
    "- melakukan : 1\n",
    "- kunjungan : 1\n",
    "- ke : 1\n",
    "- jogja : 1\n",
    "\n",
    "hints: Gunakan Dictionary dalam menyimpan word count. Gunakan kata sebagai key, dan jumlah kemunculan sebagai value"
   ]
  },
  {
   "cell_type": "code",
   "execution_count": 14,
   "metadata": {},
   "outputs": [
    {
     "name": "stdout",
     "output_type": "stream",
     "text": [
      "Barcelona berhasil merebut posisi puncak klasemen La Liga Spanyol seusai menang 4-2 atas Sevilla pada pertandingan pekan kesembilan di Stadion Camp Nou, Sabtu (20/10/2018) atau Minggu dini hari WIB. Barcelona membuka keunggulan pada menit ke-2 melalui gol yang dicetak oleh Philippe Coutinho. Lionel Messi menggandakan keunggulan Barcelona, 10 menit berselang.  Namun, nahas bagi Barcelona, karena Messi harus ditarik keluar pada menit ke-26 setelah mengalami cedera. Tanpa Messi, skor 2-0 bertahan hingga babak pertama berakhir.\n",
      "\n",
      "\n",
      "4. Gunakan Data Dictionary \n"
     ]
    }
   ],
   "source": [
    "paragraf = \"Barcelona berhasil merebut posisi puncak klasemen La Liga Spanyol seusai menang 4-2 atas Sevilla pada pertandingan pekan kesembilan di Stadion Camp Nou, Sabtu (20/10/2018) atau Minggu dini hari WIB. Barcelona membuka keunggulan pada menit ke-2 melalui gol yang dicetak oleh Philippe Coutinho. Lionel Messi menggandakan keunggulan Barcelona, 10 menit berselang.  Namun, nahas bagi Barcelona, karena Messi harus ditarik keluar pada menit ke-26 setelah mengalami cedera. Tanpa Messi, skor 2-0 bertahan hingga babak pertama berakhir.\"\n",
    "print(paragraf)\n",
    "print(\"\")\n",
    "\n",
    "print(\"\")\n",
    "print(\"4. Gunakan Data Dictionary \")"
   ]
  },
  {
   "cell_type": "code",
   "execution_count": 15,
   "metadata": {},
   "outputs": [
    {
     "name": "stdout",
     "output_type": "stream",
     "text": [
      "1. Replace dulu kata kata titik, koma, slash dll, hingga semua Clean\n",
      "BARCELONA BERHASIL MEREBUT POSISI PUNCAK KLASEMEN LA LIGA SPANYOL SEUSAI MENANG 4 2 ATAS SEVILLA PADA PERTANDINGAN PEKAN KESEMBILAN DI STADION CAMP NOU  SABTU  20 10 2018  ATAU MINGGU DINI HARI WIB. BARCELONA MEMBUKA KEUNGGULAN PADA MENIT KE 2 MELALUI GOL YANG DICETAK OLEH PHILIPPE COUTINHO. LIONEL MESSI MENGGANDAKAN KEUNGGULAN BARCELONA  10 MENIT BERSELANG.  NAMUN  NAHAS BAGI BARCELONA  KARENA MESSI HARUS DITARIK KELUAR PADA MENIT KE 26 SETELAH MENGALAMI CEDERA. TANPA MESSI  SKOR 2 0 BERTAHAN HINGGA BABAK PERTAMA BERAKHIR.\n"
     ]
    }
   ],
   "source": [
    "#Replace dulu kata kata titik, koma, slash dll\n",
    "print(\"1. Replace dulu kata kata titik, koma, slash dll, hingga semua Clean\")\n",
    "paragraf = paragraf.replace(\"/\", \" \")\n",
    "paragraf = paragraf.replace(\"(\", \" \")\n",
    "paragraf = paragraf.replace(\")\", \" \")\n",
    "paragraf = paragraf.replace(\"-\", \" \")\n",
    "paragraf = paragraf.replace(\",\", \" \")\n",
    "paragraf = paragraf.upper()\n",
    "print(paragraf)"
   ]
  },
  {
   "cell_type": "code",
   "execution_count": 16,
   "metadata": {},
   "outputs": [
    {
     "name": "stdout",
     "output_type": "stream",
     "text": [
      "\n",
      "2. Split Tanda Titik, Hilangkan Karakter Whitespace dan spasi\n",
      "koson\n",
      "[['BARCELONA', 'BERHASIL', 'MEREBUT', 'POSISI', 'PUNCAK', 'KLASEMEN', 'LA', 'LIGA', 'SPANYOL', 'SEUSAI', 'MENANG', '4', '2', 'ATAS', 'SEVILLA', 'PADA', 'PERTANDINGAN', 'PEKAN', 'KESEMBILAN', 'DI', 'STADION', 'CAMP', 'NOU', 'SABTU', '20', '10', '2018', 'ATAU', 'MINGGU', 'DINI', 'HARI', 'WIB'], ['BARCELONA', 'MEMBUKA', 'KEUNGGULAN', 'PADA', 'MENIT', 'KE', '2', 'MELALUI', 'GOL', 'YANG', 'DICETAK', 'OLEH', 'PHILIPPE', 'COUTINHO'], ['LIONEL', 'MESSI', 'MENGGANDAKAN', 'KEUNGGULAN', 'BARCELONA', '10', 'MENIT', 'BERSELANG'], ['NAMUN', 'NAHAS', 'BAGI', 'BARCELONA', 'KARENA', 'MESSI', 'HARUS', 'DITARIK', 'KELUAR', 'PADA', 'MENIT', 'KE', '26', 'SETELAH', 'MENGALAMI', 'CEDERA'], ['TANPA', 'MESSI', 'SKOR', '2', '0', 'BERTAHAN', 'HINGGA', 'BABAK', 'PERTAMA', 'BERAKHIR']]\n"
     ]
    }
   ],
   "source": [
    "print(\"\")\n",
    "print(\"2. Split Tanda Titik, Hilangkan Karakter Whitespace dan spasi\")\n",
    "kalimat = paragraf.split(\".\")\n",
    "list_kalimat = []\n",
    "\n",
    "for k in kalimat:\n",
    "    list = k.strip().split()\n",
    "    if not list:\n",
    "        print('koson')\n",
    "    else:\n",
    "        list_kalimat.append(list)\n",
    "print(list_kalimat)"
   ]
  },
  {
   "cell_type": "code",
   "execution_count": 20,
   "metadata": {},
   "outputs": [
    {
     "name": "stdout",
     "output_type": "stream",
     "text": [
      "3. Tampilkan Modus\n",
      "{'BARCELONA': 4, 'BERHASIL': 1, 'MEREBUT': 1, 'POSISI': 1, 'PUNCAK': 1, 'KLASEMEN': 1, 'LA': 1, 'LIGA': 1, 'SPANYOL': 1, 'SEUSAI': 1, 'MENANG': 1, '4': 1, '2': 3, 'ATAS': 1, 'SEVILLA': 1, 'PADA': 3, 'PERTANDINGAN': 1, 'PEKAN': 1, 'KESEMBILAN': 1, 'DI': 1, 'STADION': 1, 'CAMP': 1, 'NOU': 1, 'SABTU': 1, '20': 1, '10': 2, '2018': 1, 'ATAU': 1, 'MINGGU': 1, 'DINI': 1, 'HARI': 1, 'WIB': 1, 'MEMBUKA': 1, 'KEUNGGULAN': 2, 'MENIT': 3, 'KE': 2, 'MELALUI': 1, 'GOL': 1, 'YANG': 1, 'DICETAK': 1, 'OLEH': 1, 'PHILIPPE': 1, 'COUTINHO': 1, 'LIONEL': 1, 'MESSI': 3, 'MENGGANDAKAN': 1, 'BERSELANG': 1, 'NAMUN': 1, 'NAHAS': 1, 'BAGI': 1, 'KARENA': 1, 'HARUS': 1, 'DITARIK': 1, 'KELUAR': 1, '26': 1, 'SETELAH': 1, 'MENGALAMI': 1, 'CEDERA': 1, 'TANPA': 1, 'SKOR': 1, '0': 1, 'BERTAHAN': 1, 'HINGGA': 1, 'BABAK': 1, 'PERTAMA': 1, 'BERAKHIR': 1}\n",
      "Modus nya adalah  {'BARCELONA': 4}\n"
     ]
    }
   ],
   "source": [
    "print(\"3. Tampilkan Modus\")\n",
    "dic = {}\n",
    "dic_modus = {0: 0}\n",
    "dic[list_kalimat[0][0]] = 0\n",
    "maximum = 0\n",
    "old_key=0\n",
    "for k in list_kalimat:\n",
    "    for n in k:\n",
    "        if n in dic:\n",
    "            dic[n] = dic[n]+1\n",
    "            #print(dic)\n",
    "        else:\n",
    "            dic[n] = 1\n",
    "            #print(dic)\n",
    "        if dic[n] > maximum:\n",
    "            maximum = dic[n]\n",
    "            #replace new key\n",
    "            del dic_modus[old_key]\n",
    "            dic_modus[n] = maximum\n",
    "            old_key = n\n",
    "print(dic)\n",
    "print(\"Modus nya adalah \", dic_modus)"
   ]
  },
  {
   "cell_type": "code",
   "execution_count": null,
   "metadata": {},
   "outputs": [],
   "source": []
  }
 ],
 "metadata": {
  "kernelspec": {
   "display_name": "Python 3",
   "language": "python",
   "name": "python3"
  },
  "language_info": {
   "codemirror_mode": {
    "name": "ipython",
    "version": 3
   },
   "file_extension": ".py",
   "mimetype": "text/x-python",
   "name": "python",
   "nbconvert_exporter": "python",
   "pygments_lexer": "ipython3",
   "version": "3.7.0"
  }
 },
 "nbformat": 4,
 "nbformat_minor": 2
}
