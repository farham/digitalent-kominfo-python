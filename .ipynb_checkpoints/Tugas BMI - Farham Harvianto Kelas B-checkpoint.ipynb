{
 "cells": [
  {
   "cell_type": "code",
   "execution_count": 2,
   "metadata": {},
   "outputs": [
    {
     "name": "stdout",
     "output_type": "stream",
     "text": [
      "=========================================================================================================\n",
      "Membuat Program Body Mass Index (BMI) untuk menentukan sebuah keidealan berat badan terhadap tinggi badan\n",
      "=========================================================================================================\n",
      "Satuannya adalah :\n",
      "1. Berat Badan dalam KG\n",
      "2. Tinggi badan dalam CM\n",
      "Rumusnya adalah :\n",
      "Berat / ( Tinggi CM /100)^2\n",
      "\n",
      "\n",
      "Berat badan dalam KG = 92\n",
      "Tinggi badan dalam CM = 169\n",
      "Tinggi badan dalam M = 1.69\n",
      "Body Mass Index = 32.21175729141137\n",
      "\n",
      "\n",
      "Hasil Kategorisasi BMI adalah\n",
      "Moderately Obese\n"
     ]
    }
   ],
   "source": [
    "print (\"=========================================================================================================\")\n",
    "print (\"Membuat Program Body Mass Index (BMI) untuk menentukan sebuah keidealan berat badan terhadap tinggi badan\")\n",
    "print (\"=========================================================================================================\")\n",
    "print (\"Satuannya adalah :\")\n",
    "print (\"1. Berat Badan dalam KG\")\n",
    "print (\"2. Tinggi badan dalam CM\")\n",
    "print (\"Rumusnya adalah :\")\n",
    "print (\"Berat / ( Tinggi CM /100)^2\")\n",
    "print (\"\")\n",
    "print (\"\")\n",
    "#inisialisasi Berat Badan dan tinggi Badan\n",
    "berat_badan = 92\n",
    "tinggi_badan_cm = 169\n",
    "tinggi_badan_m = tinggi_badan_cm / 100\n",
    "bmi = berat_badan / ( tinggi_badan_m ** 2)\n",
    "print (\"Berat badan dalam KG =\", berat_badan)\n",
    "print (\"Tinggi badan dalam CM =\", tinggi_badan_cm)\n",
    "print (\"Tinggi badan dalam M =\", tinggi_badan_m)\n",
    "print (\"Body Mass Index =\", bmi)\n",
    "print (\"\")\n",
    "print (\"\")\n",
    "print (\"Hasil Kategorisasi BMI adalah\")\n",
    "#Kondisi dalam BMI\n",
    "if bmi>=40:\n",
    "    print (\"Very Severely Obese\")\n",
    "elif bmi<40 and bmi>35:\n",
    "    print (\"Severely Obese\")\n",
    "elif bmi<=35 and bmi>30:\n",
    "    print (\"Moderately Obese\")\n",
    "elif bmi<=30 and bmi>25:\n",
    "    print (\"Overweight\")\n",
    "elif bmi<=25 and bmi>18.5:\n",
    "    print (\"Normal healty wight\")\n",
    "elif bmi<=18.5 and bmi>16:\n",
    "    print (\"Underweight\")\n",
    "elif bmi<=16 and bmi>15:\n",
    "    print (\"Severely Underweight\")\n",
    "else :\n",
    "    print (\"Very Severely Underweight\")"
   ]
  },
  {
   "cell_type": "code",
   "execution_count": null,
   "metadata": {},
   "outputs": [],
   "source": []
  },
  {
   "cell_type": "code",
   "execution_count": null,
   "metadata": {},
   "outputs": [],
   "source": []
  }
 ],
 "metadata": {
  "kernelspec": {
   "display_name": "Python 3",
   "language": "python",
   "name": "python3"
  },
  "language_info": {
   "codemirror_mode": {
    "name": "ipython",
    "version": 3
   },
   "file_extension": ".py",
   "mimetype": "text/x-python",
   "name": "python",
   "nbconvert_exporter": "python",
   "pygments_lexer": "ipython3",
   "version": "3.7.0"
  }
 },
 "nbformat": 4,
 "nbformat_minor": 2
}
