{
 "cells": [
  {
   "cell_type": "code",
   "execution_count": 1,
   "metadata": {},
   "outputs": [
    {
     "name": "stdout",
     "output_type": "stream",
     "text": [
      "0\n",
      "1\n",
      "2\n",
      "3\n",
      "4\n",
      "5\n",
      "6\n",
      "7\n",
      "8\n",
      "9\n",
      "10\n",
      "11\n",
      "12\n",
      "13\n",
      "14\n",
      "15\n",
      "16\n",
      "17\n",
      "18\n",
      "19\n"
     ]
    }
   ],
   "source": [
    "for i in range(0,20):\n",
    "    print(i)"
   ]
  },
  {
   "cell_type": "code",
   "execution_count": 2,
   "metadata": {},
   "outputs": [
    {
     "name": "stdout",
     "output_type": "stream",
     "text": [
      "0\n",
      "1\n",
      "2\n",
      "3\n",
      "4\n",
      "5\n",
      "6\n",
      "7\n",
      "8\n",
      "9\n"
     ]
    }
   ],
   "source": [
    "i = 0\n",
    "while i<10:\n",
    "    print(i)\n",
    "    i = i + 1"
   ]
  },
  {
   "cell_type": "code",
   "execution_count": 3,
   "metadata": {},
   "outputs": [
    {
     "name": "stdout",
     "output_type": "stream",
     "text": [
      "[10, 20, 39, 49, 19, 29, 98]\n",
      "['Farham', 'Mizan', 'Evi']\n",
      "['Big', 2.5, 29, 'Data']\n"
     ]
    }
   ],
   "source": [
    "#Deklarasi List\n",
    "\n",
    "#Dapat berisi angka\n",
    "nilai = [10, 20, 39, 49, 19, 29, 98]\n",
    "print(nilai)\n",
    "\n",
    "#Dapat berisi String\n",
    "peserta = ['Farham', 'Mizan', 'Evi']\n",
    "print(peserta)\n",
    "\n",
    "#Dapat Berisi Campuran\n",
    "campuran = ['Big', 2.5, 29, 'Data']\n",
    "print(campuran)"
   ]
  },
  {
   "cell_type": "code",
   "execution_count": 4,
   "metadata": {},
   "outputs": [
    {
     "name": "stdout",
     "output_type": "stream",
     "text": [
      "[10, 20, 39, 49, 19, 29, 98]\n",
      "['Farham', 'Mizan', 'Evi']\n",
      "['Big', 2.5, 29, 'Data']\n"
     ]
    }
   ],
   "source": [
    "#Deklarasi List\n",
    "\n",
    "#Dapat berisi angka\n",
    "nilai = [10, 20, 39, 49, 19, 29, 98]\n",
    "print(nilai)\n",
    "\n",
    "#Dapat berisi String\n",
    "peserta = ['Farham', 'Mizan', 'Evi']\n",
    "print(peserta)\n",
    "\n",
    "#Dapat Berisi Campuran\n",
    "campuran = ['Big', 2.5, 29, 'Data']\n",
    "print(campuran)"
   ]
  },
  {
   "cell_type": "code",
   "execution_count": 5,
   "metadata": {},
   "outputs": [
    {
     "name": "stdout",
     "output_type": "stream",
     "text": [
      "[10, 20, 39, 49, 19, 29, 98]\n",
      "['Farham', 'Mizan', 'Evi']\n",
      "['Big', 2.5, 29, 'Data']\n",
      "39\n",
      "Farham\n",
      "29\n"
     ]
    }
   ],
   "source": [
    "#Deklarasi List\n",
    "\n",
    "#Dapat berisi angka\n",
    "nilai = [10, 20, 39, 49, 19, 29, 98]\n",
    "print(nilai)\n",
    "\n",
    "#Dapat berisi String\n",
    "peserta = ['Farham', 'Mizan', 'Evi']\n",
    "print(peserta)\n",
    "\n",
    "#Dapat Berisi Campuran\n",
    "campuran = ['Big', 2.5, 29, 'Data']\n",
    "print(campuran)\n",
    "\n",
    "#Print index\n",
    "print(nilai[2])\n",
    "print(peserta[0])\n",
    "print(campuran[-2])"
   ]
  },
  {
   "cell_type": "code",
   "execution_count": 6,
   "metadata": {},
   "outputs": [
    {
     "name": "stdout",
     "output_type": "stream",
     "text": [
      "[10, 20, 39, 49, 19, 29, 98]\n",
      "[10, 20, 39, 49, 19, 29, 98, 1900]\n"
     ]
    }
   ],
   "source": [
    "#Dapat berisi angka\n",
    "nilai = [10, 20, 39, 49, 19, 29, 98]\n",
    "print(nilai)\n",
    "\n",
    "#Menambah Elemen kedalam List\n",
    "nilai.append(1900)\n",
    "print(nilai)"
   ]
  },
  {
   "cell_type": "code",
   "execution_count": 7,
   "metadata": {},
   "outputs": [
    {
     "name": "stdout",
     "output_type": "stream",
     "text": [
      "[10, 20, 39, 49, 19, 29, 98]\n",
      "[39, 49, 19]\n",
      "[10, 20]\n",
      "[39, 49, 19, 29, 98]\n",
      "[10, 20, 39, 49, 19, 29, 98]\n"
     ]
    }
   ],
   "source": [
    "#Dapat berisi angka\n",
    "nilai = [10, 20, 39, 49, 19, 29, 98]\n",
    "print(nilai)\n",
    "\n",
    "#Slicing digunakan untuk memilih beberapa kelompok nilai dari list dengan memanfaatkan range index\n",
    "print(nilai[2:5])\n",
    "print(nilai[:-5])\n",
    "print(nilai[2:])\n",
    "print(nilai[:])"
   ]
  },
  {
   "cell_type": "code",
   "execution_count": 8,
   "metadata": {},
   "outputs": [
    {
     "name": "stdout",
     "output_type": "stream",
     "text": [
      "[10, 20, 39, 49, 19, 29, 98]\n",
      "10\n",
      "20\n",
      "39\n",
      "49\n",
      "19\n",
      "29\n",
      "98\n"
     ]
    }
   ],
   "source": [
    "#Dalam mengaakses setiap elemen dalam list, kita dapat menggunakan sintaks perulangan for yang telah kita pelajari sebelumnya\n",
    "nilai = [10, 20, 39, 49, 19, 29, 98]\n",
    "print(nilai)\n",
    "\n",
    "for n in nilai:\n",
    "    print(n)"
   ]
  },
  {
   "cell_type": "code",
   "execution_count": 9,
   "metadata": {},
   "outputs": [
    {
     "name": "stdout",
     "output_type": "stream",
     "text": [
      "[10, 20, 39, 49, 19, 29, 98]\n",
      "10\n",
      "30\n",
      "69\n",
      "118\n",
      "137\n",
      "166\n",
      "264\n",
      "37.714285714285715\n"
     ]
    }
   ],
   "source": [
    "#Berapa rata rata\n",
    "nilai = [10, 20, 39, 49, 19, 29, 98]\n",
    "print(nilai)\n",
    "\n",
    "total = 0\n",
    "for n in nilai:\n",
    "    total = total + n\n",
    "    print(total)\n",
    "\n",
    "rata = total / len(nilai)\n",
    "print(rata)"
   ]
  },
  {
   "cell_type": "code",
   "execution_count": 10,
   "metadata": {},
   "outputs": [
    {
     "name": "stdout",
     "output_type": "stream",
     "text": [
      "[10, 20, 39, 49, 19, 29, 98]\n"
     ]
    }
   ],
   "source": [
    "#Berapa rata rata\n",
    "nilai = [10, 20, 39, 49, 19, 29, 98]\n",
    "print(nilai)"
   ]
  },
  {
   "cell_type": "code",
   "execution_count": 11,
   "metadata": {},
   "outputs": [
    {
     "name": "stdout",
     "output_type": "stream",
     "text": [
      "[10, 20, 39, 49, 19, 29, 98]\n",
      "95 Tidak ada didalam List\n"
     ]
    }
   ],
   "source": [
    "#Lookup Nilai didalam List\n",
    "nilai = [10, 20, 39, 49, 19, 29, 98]\n",
    "print(nilai)\n",
    "\n",
    "n = 95\n",
    "if n in nilai :\n",
    "    print(n, \"Ada didalam List\")\n",
    "else :\n",
    "    print(n, \"Tidak ada didalam List\")"
   ]
  },
  {
   "cell_type": "code",
   "execution_count": 12,
   "metadata": {},
   "outputs": [],
   "source": [
    "#LATIHAN\n",
    "#Tampilkan Nilai yang LEBIH dari SAMA DENGAN rataratanya.\n"
   ]
  },
  {
   "cell_type": "code",
   "execution_count": 13,
   "metadata": {},
   "outputs": [],
   "source": [
    "#Tuple merupakan tipe data yang mirip dengan list, namun berifat immutable atau tidak dapat ditambah dan diubah nilainya. \n",
    "#Keuntungan dari penggunaan tuple adalah, pengaksesan datanya lebih cepat."
   ]
  },
  {
   "cell_type": "code",
   "execution_count": 14,
   "metadata": {},
   "outputs": [
    {
     "name": "stdout",
     "output_type": "stream",
     "text": [
      "('Januari', 'Februari', 'Maret', 'April', 'Mei', 'Juni', 'Juli', 'Agustus', 'September', 'Oktober', 'November', 'Desember')\n"
     ]
    }
   ],
   "source": [
    "# Deklarasi Tuple\n",
    "bulan = (\"Januari\",\"Februari\",\"Maret\",\"April\",\"Mei\",\"Juni\",\"Juli\",\"Agustus\",\"September\",\"Oktober\",\"November\",\"Desember\")\n",
    "print(bulan)"
   ]
  },
  {
   "cell_type": "code",
   "execution_count": 15,
   "metadata": {},
   "outputs": [
    {
     "name": "stdout",
     "output_type": "stream",
     "text": [
      "('Januari', 'Februari', 'Maret', 'April', 'Mei', 'Juni', 'Juli', 'Agustus', 'September', 'Oktober', 'November', 'Desember')\n",
      "Januari\n",
      "Mei\n",
      "Desember\n",
      "Oktober\n"
     ]
    }
   ],
   "source": [
    "# Deklarasi Tuple\n",
    "bulan = (\"Januari\",\"Februari\",\"Maret\",\"April\",\"Mei\",\"Juni\",\"Juli\",\"Agustus\",\"September\",\"Oktober\",\"November\",\"Desember\")\n",
    "print(bulan)\n",
    "\n",
    "print(bulan[0])\n",
    "print(bulan[4])\n",
    "print(bulan[-1])\n",
    "print(bulan[-3])\n"
   ]
  },
  {
   "cell_type": "code",
   "execution_count": 16,
   "metadata": {},
   "outputs": [
    {
     "name": "stdout",
     "output_type": "stream",
     "text": [
      "('Januari', 'Februari', 'Maret', 'April', 'Mei', 'Juni', 'Juli', 'Agustus', 'September', 'Oktober', 'November', 'Desember')\n",
      "('Maret', 'April', 'Mei')\n",
      "('Januari', 'Februari', 'Maret', 'April', 'Mei', 'Juni', 'Juli')\n",
      "('Juni', 'Juli', 'Agustus', 'September', 'Oktober', 'November', 'Desember')\n",
      "('Januari', 'Februari', 'Maret', 'April', 'Mei', 'Juni', 'Juli', 'Agustus', 'September', 'Oktober', 'November', 'Desember')\n"
     ]
    }
   ],
   "source": [
    "# Deklarasi Tuple\n",
    "bulan = (\"Januari\",\"Februari\",\"Maret\",\"April\",\"Mei\",\"Juni\",\"Juli\",\"Agustus\",\"September\",\"Oktober\",\"November\",\"Desember\")\n",
    "print(bulan)\n",
    "\n",
    "\n",
    "print(bulan[2:5])\n",
    "\n",
    "print(bulan[:-5])\n",
    "\n",
    "print(bulan[5:])\n",
    "\n",
    "print(bulan[:])"
   ]
  },
  {
   "cell_type": "code",
   "execution_count": 17,
   "metadata": {},
   "outputs": [
    {
     "name": "stdout",
     "output_type": "stream",
     "text": [
      "('Januari', 'Februari', 'Maret', 'April', 'Mei', 'Juni', 'Juli', 'Agustus', 'September', 'Oktober', 'November', 'Desember')\n",
      "Januari\n",
      "Februari\n",
      "Maret\n",
      "April\n",
      "Mei\n",
      "Juni\n",
      "Juli\n",
      "Agustus\n",
      "September\n",
      "Oktober\n",
      "November\n",
      "Desember\n"
     ]
    }
   ],
   "source": [
    "# Deklarasi Tuple\n",
    "bulan = (\"Januari\",\"Februari\",\"Maret\",\"April\",\"Mei\",\"Juni\",\"Juli\",\"Agustus\",\"September\",\"Oktober\",\"November\",\"Desember\")\n",
    "print(bulan)\n",
    "\n",
    "for b in bulan:\n",
    "    print(b)\n"
   ]
  },
  {
   "cell_type": "code",
   "execution_count": 18,
   "metadata": {},
   "outputs": [],
   "source": [
    "#Dictionary dalam Python berbeda dengan List ataupun Tuple. Karena setiap urutanya berisi key dan value. \n",
    "#Setiap key dipisahkan dari value-nya oleh titik dua (:), \n",
    "#item dipisahkan oleh koma, dan semuanya tertutup dalam kurung kurawal. \n",
    "#Dictionary kosong tanpa barang ditulis hanya dengan dua kurung kurawal, \n",
    "#seperti ini: {}."
   ]
  },
  {
   "cell_type": "code",
   "execution_count": 19,
   "metadata": {},
   "outputs": [
    {
     "name": "stdout",
     "output_type": "stream",
     "text": [
      "{'Nama': 'Budi', 'Umur': 7, 'JenisKelamin': 'Laki-Laki'}\n",
      "Budi\n",
      "7\n",
      "Laki-Laki\n"
     ]
    }
   ],
   "source": [
    "siswa = {'Nama': 'Budi', 'Umur': 7, 'JenisKelamin': 'Laki-Laki'}\n",
    "print(siswa)\n",
    "print(siswa['Nama'])\n",
    "print(siswa['Umur'])\n",
    "print(siswa['JenisKelamin'])"
   ]
  },
  {
   "cell_type": "code",
   "execution_count": 20,
   "metadata": {},
   "outputs": [
    {
     "name": "stdout",
     "output_type": "stream",
     "text": [
      "{'Nama': 'Budi', 'Umur': 7, 'JenisKelamin': 'Laki-Laki'}\n",
      "Budi\n",
      "7\n",
      "Laki-Laki\n",
      "{'Nama': 'Ani', 'Umur': 7, 'JenisKelamin': 'Laki-Laki'}\n",
      "{'Nama': 'Ani', 'Umur': 7, 'JenisKelamin': 'Laki-Laki', 'Alamat': 'Jl. Kaliurang KM 5'}\n",
      "{'Nama': 'Ani', 'Umur': 7, 'JenisKelamin': 'Laki-Laki', 'Alamat': 'Jl. Kaliurang KM 5', 'Nilai': [10, 20, 39, 49, 19, 29, 98]}\n"
     ]
    }
   ],
   "source": [
    "siswa = {'Nama': 'Budi', 'Umur': 7, 'JenisKelamin': 'Laki-Laki'}\n",
    "print(siswa)\n",
    "print(siswa['Nama'])\n",
    "print(siswa['Umur'])\n",
    "print(siswa['JenisKelamin'])\n",
    "\n",
    "#Mengubah Nilai\n",
    "siswa['Nama'] = 'Ani'\n",
    "print(siswa)\n",
    "\n",
    "#Menambah Element\n",
    "siswa['Alamat'] = \"Jl. Kaliurang KM 5\"\n",
    "print(siswa)\n",
    "\n",
    "# List sebagai nilai dari elemen Dictionary\n",
    "siswa[\"Nilai\"] = nilai\n",
    "print(siswa)"
   ]
  },
  {
   "cell_type": "code",
   "execution_count": null,
   "metadata": {},
   "outputs": [],
   "source": []
  }
 ],
 "metadata": {
  "kernelspec": {
   "display_name": "Python 3",
   "language": "python",
   "name": "python3"
  },
  "language_info": {
   "codemirror_mode": {
    "name": "ipython",
    "version": 3
   },
   "file_extension": ".py",
   "mimetype": "text/x-python",
   "name": "python",
   "nbconvert_exporter": "python",
   "pygments_lexer": "ipython3",
   "version": "3.7.0"
  }
 },
 "nbformat": 4,
 "nbformat_minor": 2
}
