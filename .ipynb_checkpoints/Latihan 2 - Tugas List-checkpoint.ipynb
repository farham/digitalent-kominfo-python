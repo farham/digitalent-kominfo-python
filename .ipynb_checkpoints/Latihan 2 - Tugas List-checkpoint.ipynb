{
 "cells": [
  {
   "cell_type": "markdown",
   "metadata": {},
   "source": [
    "# Tugas 1 : List Nilai\n",
    "Diberikan sekumpulan Nilai Random antara 0 sampai dengan 100 sebanyak 250 nilai. Buatlah program untuk melakukan hal berikut:\n",
    "\n",
    "1. Tampilkan Angka Ganjil dari ke 250 nilai tersebut\n",
    "2. Tampilkan berapa banyak yang mendapatkan nilai lebih dari 70\n",
    "3. Tampilkan standar deviasi dari sekumpulan nilai tersebut\n",
    "4. Tampilkan nilai maksimum dan minimum\n",
    "5. Tampilkan modus dari sekumpulan nilai tersebut"
   ]
  },
  {
   "cell_type": "code",
   "execution_count": 12,
   "metadata": {},
   "outputs": [
    {
     "name": "stdout",
     "output_type": "stream",
     "text": [
      "[14, 69, 67, 32, 38, 16, 3, 48, 41, 73, 89, 30, 42, 31, 28, 93, 96, 21, 62, 40, 98, 63, 50, 81, 11, 18, 60, 55, 5, 26, 56, 75, 39, 96, 79, 25, 32, 65, 48, 56, 1, 33, 58, 78, 39, 10, 30, 45, 71, 24, 21, 6, 8, 72, 64, 42, 42, 34, 62, 94, 76, 92, 61, 35, 70, 2, 29, 97, 37, 96, 35, 81, 1, 84, 14, 39, 59, 15, 87, 52, 48, 50, 85, 71, 41, 49, 45, 33, 34, 98, 29, 21, 94, 60, 78, 86, 17, 3, 90, 14, 62, 32, 51, 82, 88, 3, 96, 53, 96, 38, 11, 5, 90, 31, 35, 10, 18, 2, 72, 15, 36, 9, 64, 43, 92, 23, 26, 76, 14, 35, 33, 4, 51, 24, 25, 70, 77, 37, 70, 97, 7, 28, 96, 62, 5, 12, 63, 31, 42, 49, 76, 14, 29, 13, 76, 15, 44, 74, 87, 8, 15, 89, 45, 30, 77, 87, 54, 59, 61, 22, 1, 93, 35, 78, 25, 54, 39, 51, 33, 47, 37, 57, 64, 1, 33, 63, 48, 75, 78, 3, 90, 94, 58, 60, 52, 90, 41, 33, 53, 35, 66, 13, 50, 2, 23, 60, 73, 82, 38, 13, 92, 44, 59, 81, 47, 23, 8, 26, 84, 35, 48, 42, 65, 7, 50, 71, 25, 53, 2, 3, 95, 36, 63, 95, 49, 53, 4, 76, 48, 15, 98, 77, 35, 96, 60, 90, 76, 70, 69, 40]\n",
      "================================= Tampilkan =========================== \n",
      "\n",
      "2. Tampilkan Angka Lebih dari 70\n",
      "\n",
      "3. Tampilkan Standar Deviasi\n",
      "\n",
      "4. Tampilkan Nilai Maksimum dan Minimum\n",
      "\n",
      "5. Tampilkan Modul\n"
     ]
    }
   ],
   "source": [
    "import random\n",
    "\n",
    "# GENERATE RANDOM\n",
    "nilaiTugas = []\n",
    "for i in range(250):\n",
    "    nilaiTugas.append(random.randrange(1,100,1))\n",
    "\n",
    "print(nilaiTugas)\n",
    "\n",
    "# TAMPILKAN:\n",
    "# ganjil\n",
    "# nilai > 70\n",
    "# standar deviasi\n",
    "# maksimum\n",
    "# minimum\n",
    "# modus\n",
    "print(\"================================= Tampilkan =========================== \")\n",
    "\n"
   ]
  },
  {
   "cell_type": "code",
   "execution_count": 13,
   "metadata": {},
   "outputs": [
    {
     "name": "stdout",
     "output_type": "stream",
     "text": [
      "1. Tampilkan Angka Ganjil\n",
      "Nilai yang Ganjil adalah  69\n",
      "Nilai yang Ganjil adalah  67\n",
      "Nilai yang Ganjil adalah  3\n",
      "Nilai yang Ganjil adalah  41\n",
      "Nilai yang Ganjil adalah  73\n",
      "Nilai yang Ganjil adalah  89\n",
      "Nilai yang Ganjil adalah  31\n",
      "Nilai yang Ganjil adalah  93\n",
      "Nilai yang Ganjil adalah  21\n",
      "Nilai yang Ganjil adalah  63\n",
      "Nilai yang Ganjil adalah  81\n",
      "Nilai yang Ganjil adalah  11\n",
      "Nilai yang Ganjil adalah  55\n",
      "Nilai yang Ganjil adalah  5\n",
      "Nilai yang Ganjil adalah  75\n",
      "Nilai yang Ganjil adalah  39\n",
      "Nilai yang Ganjil adalah  79\n",
      "Nilai yang Ganjil adalah  25\n",
      "Nilai yang Ganjil adalah  65\n",
      "Nilai yang Ganjil adalah  1\n",
      "Nilai yang Ganjil adalah  33\n",
      "Nilai yang Ganjil adalah  39\n",
      "Nilai yang Ganjil adalah  45\n",
      "Nilai yang Ganjil adalah  71\n",
      "Nilai yang Ganjil adalah  21\n",
      "Nilai yang Ganjil adalah  61\n",
      "Nilai yang Ganjil adalah  35\n",
      "Nilai yang Ganjil adalah  29\n",
      "Nilai yang Ganjil adalah  97\n",
      "Nilai yang Ganjil adalah  37\n",
      "Nilai yang Ganjil adalah  35\n",
      "Nilai yang Ganjil adalah  81\n",
      "Nilai yang Ganjil adalah  1\n",
      "Nilai yang Ganjil adalah  39\n",
      "Nilai yang Ganjil adalah  59\n",
      "Nilai yang Ganjil adalah  15\n",
      "Nilai yang Ganjil adalah  87\n",
      "Nilai yang Ganjil adalah  85\n",
      "Nilai yang Ganjil adalah  71\n",
      "Nilai yang Ganjil adalah  41\n",
      "Nilai yang Ganjil adalah  49\n",
      "Nilai yang Ganjil adalah  45\n",
      "Nilai yang Ganjil adalah  33\n",
      "Nilai yang Ganjil adalah  29\n",
      "Nilai yang Ganjil adalah  21\n",
      "Nilai yang Ganjil adalah  17\n",
      "Nilai yang Ganjil adalah  3\n",
      "Nilai yang Ganjil adalah  51\n",
      "Nilai yang Ganjil adalah  3\n",
      "Nilai yang Ganjil adalah  53\n",
      "Nilai yang Ganjil adalah  11\n",
      "Nilai yang Ganjil adalah  5\n",
      "Nilai yang Ganjil adalah  31\n",
      "Nilai yang Ganjil adalah  35\n",
      "Nilai yang Ganjil adalah  15\n",
      "Nilai yang Ganjil adalah  9\n",
      "Nilai yang Ganjil adalah  43\n",
      "Nilai yang Ganjil adalah  23\n",
      "Nilai yang Ganjil adalah  35\n",
      "Nilai yang Ganjil adalah  33\n",
      "Nilai yang Ganjil adalah  51\n",
      "Nilai yang Ganjil adalah  25\n",
      "Nilai yang Ganjil adalah  77\n",
      "Nilai yang Ganjil adalah  37\n",
      "Nilai yang Ganjil adalah  97\n",
      "Nilai yang Ganjil adalah  7\n",
      "Nilai yang Ganjil adalah  5\n",
      "Nilai yang Ganjil adalah  63\n",
      "Nilai yang Ganjil adalah  31\n",
      "Nilai yang Ganjil adalah  49\n",
      "Nilai yang Ganjil adalah  29\n",
      "Nilai yang Ganjil adalah  13\n",
      "Nilai yang Ganjil adalah  15\n",
      "Nilai yang Ganjil adalah  87\n",
      "Nilai yang Ganjil adalah  15\n",
      "Nilai yang Ganjil adalah  89\n",
      "Nilai yang Ganjil adalah  45\n",
      "Nilai yang Ganjil adalah  77\n",
      "Nilai yang Ganjil adalah  87\n",
      "Nilai yang Ganjil adalah  59\n",
      "Nilai yang Ganjil adalah  61\n",
      "Nilai yang Ganjil adalah  1\n",
      "Nilai yang Ganjil adalah  93\n",
      "Nilai yang Ganjil adalah  35\n",
      "Nilai yang Ganjil adalah  25\n",
      "Nilai yang Ganjil adalah  39\n",
      "Nilai yang Ganjil adalah  51\n",
      "Nilai yang Ganjil adalah  33\n",
      "Nilai yang Ganjil adalah  47\n",
      "Nilai yang Ganjil adalah  37\n",
      "Nilai yang Ganjil adalah  57\n",
      "Nilai yang Ganjil adalah  1\n",
      "Nilai yang Ganjil adalah  33\n",
      "Nilai yang Ganjil adalah  63\n",
      "Nilai yang Ganjil adalah  75\n",
      "Nilai yang Ganjil adalah  3\n",
      "Nilai yang Ganjil adalah  41\n",
      "Nilai yang Ganjil adalah  33\n",
      "Nilai yang Ganjil adalah  53\n",
      "Nilai yang Ganjil adalah  35\n",
      "Nilai yang Ganjil adalah  13\n",
      "Nilai yang Ganjil adalah  23\n",
      "Nilai yang Ganjil adalah  73\n",
      "Nilai yang Ganjil adalah  13\n",
      "Nilai yang Ganjil adalah  59\n",
      "Nilai yang Ganjil adalah  81\n",
      "Nilai yang Ganjil adalah  47\n",
      "Nilai yang Ganjil adalah  23\n",
      "Nilai yang Ganjil adalah  35\n",
      "Nilai yang Ganjil adalah  65\n",
      "Nilai yang Ganjil adalah  7\n",
      "Nilai yang Ganjil adalah  71\n",
      "Nilai yang Ganjil adalah  25\n",
      "Nilai yang Ganjil adalah  53\n",
      "Nilai yang Ganjil adalah  3\n",
      "Nilai yang Ganjil adalah  95\n",
      "Nilai yang Ganjil adalah  63\n",
      "Nilai yang Ganjil adalah  95\n",
      "Nilai yang Ganjil adalah  49\n",
      "Nilai yang Ganjil adalah  53\n",
      "Nilai yang Ganjil adalah  15\n",
      "Nilai yang Ganjil adalah  77\n",
      "Nilai yang Ganjil adalah  35\n",
      "Nilai yang Ganjil adalah  69\n"
     ]
    }
   ],
   "source": [
    "print(\"1. Tampilkan Angka Ganjil\")\n",
    "for n in nilaiTugas:\n",
    "    if n%2!=0:\n",
    "        print('Nilai yang Ganjil adalah ',n)"
   ]
  },
  {
   "cell_type": "code",
   "execution_count": 36,
   "metadata": {},
   "outputs": [
    {
     "name": "stdout",
     "output_type": "stream",
     "text": [
      "2. Tampilkan Angka Lebih dari 70\n",
      "66\n"
     ]
    }
   ],
   "source": [
    "print(\"2. Tampilkan Angka Lebih dari 70\")\n",
    "jumlah = 0\n",
    "for n in nilaiTugas:\n",
    "    if n>70:\n",
    "        jumlah = jumlah + 1\n",
    "print(jumlah)"
   ]
  },
  {
   "cell_type": "code",
   "execution_count": 59,
   "metadata": {},
   "outputs": [
    {
     "name": "stdout",
     "output_type": "stream",
     "text": [
      "3. Tampilkan Standar Deviasi\n",
      "- Jumlah Data:  250\n",
      "- Rata Rata :  48.52\n",
      "- Jumlah (data - rata-rata)**2 :  197644.40000000002\n",
      "- Varian :  790.5776000000001\n",
      "- Standard Deviasinya adalah  28.117211810561873\n"
     ]
    }
   ],
   "source": [
    "print(\"3. Tampilkan Standar Deviasi\")\n",
    "# 1. Hitung nilai rata rata\n",
    "total = 0\n",
    "jumlah_data = len(nilaiTugas)\n",
    "for n in nilaiTugas:\n",
    "    total = total + float(n)\n",
    "rata_rata = total / jumlah_data\n",
    "print(\"- Jumlah Data: \", jumlah_data)\n",
    "print(\"- Rata Rata : \", rata_rata)\n",
    "# 2. Hitung Selisi data dengan Rata-rata, kemudian dikuadratkan\n",
    "# 3. Jumlahkan seluruh kuadrat dari selisih data dan rata-rata\n",
    "jumlah_selisih_rata_kuadrat = 0\n",
    "for n in nilaiTugas:\n",
    "    selisih = n - rata_rata\n",
    "    kuadrat = selisih**2\n",
    "    jumlah_selisih_rata_kuadrat = jumlah_selisih_rata_kuadrat + kuadrat\n",
    "print(\"- Jumlah (data - rata-rata)**2 : \",jumlah_selisih_rata_kuadrat)\n",
    "# 4. Hasil No 3 dibagi dengan (Jumlah Populasi - 1)\n",
    "varian = jumlah_selisih_rata_kuadrat / jumlah_data\n",
    "print(\"- Varian : \", varian)\n",
    "# 5. Akar kan Hasilnya\n",
    "std = varian**(1/2)\n",
    "print(\"- Standard Deviasinya adalah \", std)\n",
    "\n",
    "# Dikutip dari :\n",
    "# http://friskafica.blogspot.com/2015/04/algoritma-menghitung-standar-deviasi.html"
   ]
  },
  {
   "cell_type": "code",
   "execution_count": 57,
   "metadata": {},
   "outputs": [
    {
     "name": "stdout",
     "output_type": "stream",
     "text": [
      "4. Tampilkan Nilai Maksimum dan Minimum\n",
      "Nilai Minimum\n",
      "1\n",
      "\n",
      "Nilai Maksimum\n",
      "98\n"
     ]
    }
   ],
   "source": [
    "print(\"4. Tampilkan Nilai Maksimum dan Minimum\")\n",
    "print(\"Nilai Minimum\")\n",
    "minimum = nilaiTugas[0]\n",
    "for n in nilaiTugas:\n",
    "    if n < minimum:\n",
    "        minimum = n\n",
    "print(minimum)\n",
    "print(\"\")\n",
    "print(\"Nilai Maksimum\")\n",
    "maximum = nilaiTugas[0]\n",
    "for n in nilaiTugas:\n",
    "    if n > maximum:\n",
    "        maximum = n\n",
    "print(maximum)"
   ]
  },
  {
   "cell_type": "code",
   "execution_count": 109,
   "metadata": {
    "scrolled": true
   },
   "outputs": [
    {
     "name": "stdout",
     "output_type": "stream",
     "text": [
      "5. Tampilkan Modus\n",
      "{14: 5, 69: 2, 67: 1, 32: 3, 38: 3, 16: 1, 3: 5, 48: 6, 41: 3, 73: 2, 89: 2, 30: 3, 42: 5, 31: 3, 28: 2, 93: 2, 96: 7, 21: 3, 62: 4, 40: 2, 98: 3, 63: 4, 50: 4, 81: 3, 11: 2, 18: 2, 60: 5, 55: 1, 5: 3, 26: 3, 56: 2, 75: 2, 39: 4, 79: 1, 25: 4, 65: 2, 1: 4, 33: 6, 58: 2, 78: 4, 10: 2, 45: 3, 71: 3, 24: 2, 6: 1, 8: 3, 72: 2, 64: 3, 34: 2, 94: 3, 76: 6, 92: 3, 61: 2, 35: 8, 70: 4, 2: 4, 29: 3, 97: 2, 37: 3, 84: 2, 59: 3, 15: 5, 87: 3, 52: 2, 85: 1, 49: 3, 86: 1, 17: 1, 90: 5, 51: 3, 82: 2, 88: 1, 53: 4, 36: 2, 9: 1, 43: 1, 23: 3, 4: 2, 77: 3, 7: 2, 12: 1, 13: 3, 44: 2, 74: 1, 54: 2, 22: 1, 47: 2, 57: 1, 66: 1, 95: 2}\n",
      "Nilai Modusnya adalah  {35: 8}\n"
     ]
    }
   ],
   "source": [
    "print(\"5. Tampilkan Modus\")\n",
    "list = [10, 10, 10, 5, 5, 5, 5, 5, 5, 1, 1, 2, 3]\n",
    "dic = {}\n",
    "dic_modus = {0: 0}\n",
    "dic[nilaiTugas[0]] = 0\n",
    "maximum = 0\n",
    "old_key=0\n",
    "for n in nilaiTugas:\n",
    "    #cek apakah nilai list ada dalam key di dic\n",
    "    if n in dic:\n",
    "        dic[n] = dic[n]+1\n",
    "    else:\n",
    "        dic[n] = 1\n",
    "    \n",
    "    if dic[n] > maximum:\n",
    "        maximum = dic[n]\n",
    "        #replace new key\n",
    "        del dic_modus[old_key]\n",
    "        dic_modus[n] = maximum\n",
    "        old_key = n\n",
    "        \n",
    "        \n",
    "print(dic)\n",
    "print(\"Nilai Modusnya adalah \", dic_modus)\n",
    "\n",
    "\n"
   ]
  },
  {
   "cell_type": "code",
   "execution_count": null,
   "metadata": {},
   "outputs": [],
   "source": []
  }
 ],
 "metadata": {
  "kernelspec": {
   "display_name": "Python 3",
   "language": "python",
   "name": "python3"
  },
  "language_info": {
   "codemirror_mode": {
    "name": "ipython",
    "version": 3
   },
   "file_extension": ".py",
   "mimetype": "text/x-python",
   "name": "python",
   "nbconvert_exporter": "python",
   "pygments_lexer": "ipython3",
   "version": "3.7.0"
  }
 },
 "nbformat": 4,
 "nbformat_minor": 2
}
