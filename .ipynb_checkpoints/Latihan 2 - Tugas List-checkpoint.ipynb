{
 "cells": [
  {
   "cell_type": "markdown",
   "metadata": {},
   "source": [
    "# Tugas 1 : List Nilai\n",
    "Diberikan sekumpulan Nilai Random antara 0 sampai dengan 100 sebanyak 250 nilai. Buatlah program untuk melakukan hal berikut:\n",
    "\n",
    "1. Tampilkan Angka Ganjil dari ke 250 nilai tersebut\n",
    "2. Tampilkan berapa banyak yang mendapatkan nilai lebih dari 70\n",
    "3. Tampilkan standar deviasi dari sekumpulan nilai tersebut\n",
    "4. Tampilkan nilai maksimum dan minimum\n",
    "5. Tampilkan modus dari sekumpulan nilai tersebut"
   ]
  },
  {
   "cell_type": "code",
   "execution_count": 8,
   "metadata": {},
   "outputs": [
    {
     "name": "stdout",
     "output_type": "stream",
     "text": [
      "[78, 73, 82, 9, 59, 16, 63, 66, 35, 17, 13, 98, 36, 81, 13, 65, 53, 9, 30, 56, 35, 30, 51, 73, 46, 83, 74, 75, 37, 1, 26, 1, 25, 69, 87, 97, 2, 95, 65, 82, 27, 30, 55, 27, 53, 14, 59, 86, 38, 29, 23, 42, 60, 84, 64, 20, 82, 32, 24, 76, 37, 58, 69, 86, 97, 74, 6, 15, 52, 37, 5, 17, 30, 74, 39, 96, 52, 73, 58, 6, 74, 26, 82, 20, 75, 96, 64, 63, 2, 13, 20, 44, 30, 46, 19, 89, 93, 25, 29, 60, 98, 34, 77, 88, 92, 25, 4, 97, 31, 13, 26, 79, 90, 19, 28, 20, 48, 99, 24, 53, 77, 17, 55, 16, 43, 11, 58, 91, 46, 45, 47, 59, 13, 88, 80, 86, 95, 29, 28, 33, 31, 78, 16, 10, 83, 44, 74, 87, 89, 12, 95, 47, 51, 77, 91, 95, 38, 2, 54, 42, 9, 15, 11, 43, 95, 59, 70, 82, 18, 68, 64, 89, 29, 93, 22, 1, 66, 60, 46, 48, 43, 25, 63, 17, 97, 18, 39, 96, 64, 98, 73, 44, 79, 53, 41, 25, 68, 15, 59, 44, 50, 43, 56, 78, 72, 99, 11, 87, 93, 96, 86, 92, 57, 68, 44, 82, 58, 85, 64, 50, 53, 40, 83, 96, 93, 98, 98, 47, 68, 13, 47, 66, 19, 93, 21, 30, 70, 18, 61, 34, 33, 55, 84, 68, 46, 57, 27, 63, 88, 45]\n",
      "================================= Tampilkan =========================== \n",
      "1. Tampilkan Angka Ganjil\n",
      "\n",
      "2. Tampilkan Angka Lebih dari 70\n",
      "\n",
      "3. Tampilkan Standar Deviasi\n",
      "\n",
      "4. Tampilkan Nilai Maksimum dan Minimum\n",
      "\n",
      "5. Tampilkan Modul\n"
     ]
    }
   ],
   "source": [
    "import random\n",
    "\n",
    "# GENERATE RANDOM\n",
    "nilaiTugas = []\n",
    "for i in range(250):\n",
    "    nilaiTugas.append(random.randrange(1,100,1))\n",
    "\n",
    "print(nilaiTugas)\n",
    "\n",
    "# TAMPILKAN:\n",
    "# ganjil\n",
    "# nilai > 70\n",
    "# standar deviasi\n",
    "# maksimum\n",
    "# minimum\n",
    "# modus\n",
    "print(\"================================= Tampilkan =========================== \")\n",
    "print(\"1. Tampilkan Angka Ganjil\")\n",
    "print(\"\")\n",
    "print(\"2. Tampilkan Angka Lebih dari 70\")\n",
    "print(\"\")\n",
    "print(\"3. Tampilkan Standar Deviasi\")\n",
    "print(\"\")\n",
    "print(\"4. Tampilkan Nilai Maksimum dan Minimum\")\n",
    "print(\"\")\n",
    "print(\"5. Tampilkan Modul\")"
   ]
  },
  {
   "cell_type": "markdown",
   "metadata": {},
   "source": [
    "# Tugas 2 : Word Count\n",
    "Diberikan sebuah paragraf, hitunglah banyak kemunculan masing-masing kata. Contoh : \"Presiden pagi ini melakukan kunjungan ke Jogja\"\n",
    "\n",
    "- presiden : 1\n",
    "- pagi : 1\n",
    "- ini : 1\n",
    "- melakukan : 1\n",
    "- kunjungan : 1\n",
    "- ke : 1\n",
    "- jogja : 1\n",
    "\n",
    "hints: Gunakan Dictionary dalam menyimpan word count. Gunakan kata sebagai key, dan jumlah kemunculan sebagai value"
   ]
  },
  {
   "cell_type": "code",
   "execution_count": null,
   "metadata": {},
   "outputs": [],
   "source": []
  }
 ],
 "metadata": {
  "kernelspec": {
   "display_name": "Python 3",
   "language": "python",
   "name": "python3"
  },
  "language_info": {
   "codemirror_mode": {
    "name": "ipython",
    "version": 3
   },
   "file_extension": ".py",
   "mimetype": "text/x-python",
   "name": "python",
   "nbconvert_exporter": "python",
   "pygments_lexer": "ipython3",
   "version": "3.7.0"
  }
 },
 "nbformat": 4,
 "nbformat_minor": 2
}
