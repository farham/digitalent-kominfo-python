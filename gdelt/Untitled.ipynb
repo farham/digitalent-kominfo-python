{
 "cells": [
  {
   "cell_type": "code",
   "execution_count": 7,
   "metadata": {
    "scrolled": true
   },
   "outputs": [
    {
     "name": "stderr",
     "output_type": "stream",
     "text": [
      "C:\\ProgramData\\Anaconda3\\lib\\site-packages\\IPython\\core\\interactiveshell.py:2785: DtypeWarning: Columns (14) have mixed types. Specify dtype option on import or set low_memory=False.\n",
      "  interactivity=interactivity, compiler=compiler, result=result)\n",
      "C:\\ProgramData\\Anaconda3\\lib\\site-packages\\IPython\\core\\interactiveshell.py:2785: DtypeWarning: Columns (14,24) have mixed types. Specify dtype option on import or set low_memory=False.\n",
      "  interactivity=interactivity, compiler=compiler, result=result)\n",
      "C:\\ProgramData\\Anaconda3\\lib\\site-packages\\IPython\\core\\interactiveshell.py:2785: DtypeWarning: Columns (24) have mixed types. Specify dtype option on import or set low_memory=False.\n",
      "  interactivity=interactivity, compiler=compiler, result=result)\n",
      "C:\\ProgramData\\Anaconda3\\lib\\site-packages\\IPython\\core\\interactiveshell.py:2785: DtypeWarning: Columns (21) have mixed types. Specify dtype option on import or set low_memory=False.\n",
      "  interactivity=interactivity, compiler=compiler, result=result)\n",
      "C:\\ProgramData\\Anaconda3\\lib\\site-packages\\IPython\\core\\interactiveshell.py:2785: DtypeWarning: Columns (11,14,21,24) have mixed types. Specify dtype option on import or set low_memory=False.\n",
      "  interactivity=interactivity, compiler=compiler, result=result)\n",
      "C:\\ProgramData\\Anaconda3\\lib\\site-packages\\IPython\\core\\interactiveshell.py:2785: DtypeWarning: Columns (19,24) have mixed types. Specify dtype option on import or set low_memory=False.\n",
      "  interactivity=interactivity, compiler=compiler, result=result)\n",
      "C:\\ProgramData\\Anaconda3\\lib\\site-packages\\IPython\\core\\interactiveshell.py:2785: DtypeWarning: Columns (11) have mixed types. Specify dtype option on import or set low_memory=False.\n",
      "  interactivity=interactivity, compiler=compiler, result=result)\n",
      "C:\\ProgramData\\Anaconda3\\lib\\site-packages\\IPython\\core\\interactiveshell.py:2785: DtypeWarning: Columns (11,21) have mixed types. Specify dtype option on import or set low_memory=False.\n",
      "  interactivity=interactivity, compiler=compiler, result=result)\n"
     ]
    },
    {
     "ename": "AttributeError",
     "evalue": "module 'os' has no attribute 'abspath'",
     "output_type": "error",
     "traceback": [
      "\u001b[1;31m---------------------------------------------------------------------------\u001b[0m",
      "\u001b[1;31mAttributeError\u001b[0m                            Traceback (most recent call last)",
      "\u001b[1;32m<ipython-input-7-75148e843014>\u001b[0m in \u001b[0;36m<module>\u001b[1;34m()\u001b[0m\n\u001b[0;32m     25\u001b[0m     \u001b[0msys\u001b[0m\u001b[1;33m.\u001b[0m\u001b[0mexit\u001b[0m\u001b[1;33m(\u001b[0m\u001b[1;34m\"Please check ID0000.tsv.\"\u001b[0m\u001b[1;33m)\u001b[0m\u001b[1;33m\u001b[0m\u001b[0m\n\u001b[0;32m     26\u001b[0m \u001b[1;33m\u001b[0m\u001b[0m\n\u001b[1;32m---> 27\u001b[1;33m \u001b[0mtarget_path\u001b[0m \u001b[1;33m=\u001b[0m \u001b[0mos\u001b[0m\u001b[1;33m.\u001b[0m\u001b[0mabspath\u001b[0m\u001b[1;33m(\u001b[0m\u001b[1;34m\"E:/GDELT/CSV/\"\u001b[0m\u001b[1;33m)\u001b[0m\u001b[1;33m\u001b[0m\u001b[0m\n\u001b[0m\u001b[0;32m     28\u001b[0m \u001b[0mtarget_filename\u001b[0m \u001b[1;33m=\u001b[0m \u001b[1;34m\"%s.%s\"\u001b[0m\u001b[1;33m\u001b[0m\u001b[0m\n\u001b[0;32m     29\u001b[0m \u001b[0mdf\u001b[0m \u001b[1;33m=\u001b[0m \u001b[0mdf\u001b[0m\u001b[1;33m[\u001b[0m\u001b[1;33m(\u001b[0m\u001b[0mdf\u001b[0m\u001b[1;33m[\u001b[0m\u001b[1;34m'Year'\u001b[0m\u001b[1;33m]\u001b[0m \u001b[1;33m>\u001b[0m \u001b[1;36m2015\u001b[0m\u001b[1;33m)\u001b[0m \u001b[1;33m&\u001b[0m \u001b[1;33m(\u001b[0m\u001b[0mdf\u001b[0m\u001b[1;33m[\u001b[0m\u001b[1;34m'Year'\u001b[0m\u001b[1;33m]\u001b[0m \u001b[1;33m<\u001b[0m \u001b[1;36m2018\u001b[0m\u001b[1;33m)\u001b[0m\u001b[1;33m]\u001b[0m\u001b[1;33m\u001b[0m\u001b[0m\n",
      "\u001b[1;31mAttributeError\u001b[0m: module 'os' has no attribute 'abspath'"
     ]
    }
   ],
   "source": [
    "import os\n",
    "import pandas as pd\n",
    "\n",
    "# Path to gdelt dataset\n",
    "base_path = os.path.abspath(\"E:/GDELT/gdelt_id/\")\n",
    "\n",
    "# List all file in directory\n",
    "file_list = os.listdir(base_path)\n",
    "file_list.sort()\n",
    "\n",
    "# Create a variable to store all dataframe\n",
    "df_list = []\n",
    "if file_list[0] == \"ID0000.tsv\":\n",
    "    df1 = pd.read_csv(base_path +\"/\"+ file_list[0], delimiter='\\t', encoding=\"utf8\")\n",
    "    header = list(df1.columns.values)\n",
    "    del(file_list[0])\n",
    "    df_list.append(df1)\n",
    "    for filename in file_list:\n",
    "        if filename.endswith(\".tsv\"):\n",
    "            df_list.append(pd.read_csv(base_path +\"/\"+ filename, delimiter='\\t',encoding=\"utf=8\",header=None, names=header))\n",
    "    df = pd.concat(df_list)\n",
    "else:\n",
    "    print('tidak ada')\n",
    "    import sys\n",
    "    sys.exit(\"Please check ID0000.tsv.\")\n",
    "    \n",
    "target_path = os.abspath(\"E:/GDELT/CSV/\")\n",
    "target_filename = \"%s.%s\"\n",
    "df = df[(df['Year'] > 2015) & (df['Year'] < 2018)]\n",
    "\n",
    "df.to_csv(target_path +\"/\"+ target_filename, sep=\",\", encoding=\"utf-8\")\n",
    "\n",
    "# Check \"ID0000.tsv\" for dataframe header\n",
    "# if file_list[0] == \"ID0000.tsv\":\n",
    "# \t# Create a header for other dataframe\n",
    "# \tdf1 = pd.read_csv(base_path + file_list[0], delimiter='\\t', encoding=\"utf8\")\n",
    "# \theader = list(df1.columns.values)\n",
    "\n",
    "# \t# Delete \"ID0000.tsv\" from file_list\n",
    "# \tdel(file_list[0])\n",
    "\n",
    "# \t# Insert the first dataframe\n",
    "# \tdf_list.append(df1)\n",
    "\n",
    "# \tfor filename in file_list:\n",
    "# \t\t# Check if the files are the targeted one or not\n",
    "# \t\tif filename.endswith(\".tsv\"):\n",
    "# \t\t\t# Insert all\n",
    "# \t\t\tdf_list.append(pd.read_csv(base_path + filename, delimiter='\\t', \n",
    "# \t\t\t\t\t\t\t\t\t\tencoding=\"utf=8\",\n",
    "# \t\t\t\t\t\t\t\t\t\theader=None, names=header))\n",
    "\n",
    "# \t# Join all dataframe\n",
    "# \tdf = pd.concat(df_list)\n",
    "\n",
    "# else:\n",
    "# \timport sys\n",
    "# \tsys.exit(\"Please check ID0000.tsv.\")\n",
    "\n",
    "\n",
    "# # Define target path\n",
    "# target_path = os.abspath(\"E:/GDELT/CSV/\")\n",
    "# target_filename = \"%s.%s\"\n",
    "\n",
    "# # Filter dataframe\n",
    "# df = df[(df['Year'] > 2012) & (df['Year'] < 2015)]\n",
    "\n",
    "# # Export dataframe\n",
    "# df.to_csv(target_path + target_filename, sep=\",\", encoding=\"utf-8\")"
   ]
  },
  {
   "cell_type": "code",
   "execution_count": null,
   "metadata": {},
   "outputs": [],
   "source": []
  }
 ],
 "metadata": {
  "kernelspec": {
   "display_name": "Python 3",
   "language": "python",
   "name": "python3"
  },
  "language_info": {
   "codemirror_mode": {
    "name": "ipython",
    "version": 3
   },
   "file_extension": ".py",
   "mimetype": "text/x-python",
   "name": "python",
   "nbconvert_exporter": "python",
   "pygments_lexer": "ipython3",
   "version": "3.7.0"
  }
 },
 "nbformat": 4,
 "nbformat_minor": 2
}
